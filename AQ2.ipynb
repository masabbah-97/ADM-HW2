{
  "nbformat": 4,
  "nbformat_minor": 0,
  "metadata": {
    "colab": {
      "provenance": []
    },
    "kernelspec": {
      "name": "python3",
      "display_name": "Python 3"
    },
    "language_info": {
      "name": "python"
    }
  },
  "cells": [
    {
      "cell_type": "markdown",
      "source": [
        "2. [**AQ2**] *Considering the following problem, answer the questions:* \n",
        "\n",
        "Alex has a ribbon of <ins>length N</ins>. He wants to cut the ribbon in a way that fulfils the following __three__ conditions:\n",
        "\n",
        "- Each piece of the cut should have an <ins>integer length</ins> \n",
        "- He should <ins>at least</ins> cut the ribbon once\n",
        "- The __multiplication__ of the length of all the pieces be the <ins>maximum possible</ins> \n",
        "\n"
      ],
      "metadata": {
        "id": "bMncjx41zRk2"
      }
    },
    {
      "cell_type": "markdown",
      "source": [
        "1. Implement a __recursive algorithm__ to help Alex find the maximum possible value after multiplying the length of the pieces. Explain your algorithm in detail. "
      ],
      "metadata": {
        "id": "YEWPy-WnzpXG"
      }
    },
    {
      "cell_type": "markdown",
      "source": [
        "The algorithm will be fed an integer length, which represents the length of the cloth, and it outputs an integer prod, which represents the maximum value that can be obtained from the product from the integers (x,y,z,...) where x+y+z+...=length. So, what the algorithm below does is that it recursively breaks down the length into smaller integers. For example, if length = 10, it tries 1 and 9 first, then it breaks down the 9 into smaller integers. It keeps doing this recursively with all possibilites and stores the largest values obtained."
      ],
      "metadata": {
        "id": "Nv0frKgJzsag"
      }
    },
    {
      "cell_type": "code",
      "source": [
        "def ribbon_cut(length):\n",
        "    if length <5:\n",
        "        return length\n",
        "    else:\n",
        "        rn = range(1,length,1)\n",
        "        prod = 0\n",
        "        for i in rn:\n",
        "            x = ribbon_cut(i) * ribbon_cut(length - i)\n",
        "            if x > prod:\n",
        "                prod = x\n",
        "        return prod       "
      ],
      "metadata": {
        "id": "4gKH6YC-zjjr"
      },
      "execution_count": 9,
      "outputs": []
    },
    {
      "cell_type": "markdown",
      "source": [
        "2. Show that the algorithm has <ins>exponential</ins> running time. "
      ],
      "metadata": {
        "id": "rJ-0MJtyz0-e"
      }
    },
    {
      "cell_type": "code",
      "source": [
        "exec_time = []\n",
        "inputs = []\n",
        "for i in range(2,25):\n",
        "    start = time.time()\n",
        "    ribbon_cut(i)\n",
        "    end = time.time()\n",
        "    change = end-start\n",
        "    exec_time.append(change)\n",
        "    inputs.append(i-1)"
      ],
      "metadata": {
        "id": "BtkAMzH5zwx1"
      },
      "execution_count": 10,
      "outputs": []
    },
    {
      "cell_type": "code",
      "source": [
        "fig, ax = plt.subplots(figsize=(10,6))\n",
        "ax.scatter(inputs, exec_time)\n",
        "ax.set_xlabel('inputs')\n",
        "ax.set_ylabel('execution time')\n",
        "plt.title(\"Ribbon cutting recursion version\")\n",
        "plt.show()"
      ],
      "metadata": {
        "colab": {
          "base_uri": "https://localhost:8080/",
          "height": 404
        },
        "id": "vdS5VWVjz3UO",
        "outputId": "93ac382c-823d-43d2-a83a-20c77c454dbd"
      },
      "execution_count": 11,
      "outputs": [
        {
          "output_type": "display_data",
          "data": {
            "text/plain": [
              "<Figure size 720x432 with 1 Axes>"
            ],
            "image/png": "[encoded data removed]"
          },
          "metadata": {
            "needs_background": "light"
          }
        }
      ]
    },
    {
      "cell_type": "markdown",
      "source": [
        "After implementing the function and showing the results, the recursive function has an exponential time complexity as the execution time for the input increases rapidly."
      ],
      "metadata": {
        "id": "UuL-CkmI0ckj"
      }
    },
    {
      "cell_type": "markdown",
      "source": [
        "3. Now provide a <ins>polynomial solution</ins>, based on __dynamic programming__, and compute its running-time complexity.\n"
      ],
      "metadata": {
        "id": "sJZy1Ghf0hWz"
      }
    },
    {
      "cell_type": "markdown",
      "source": [
        "Dynamic programming is a way to optimize recursive code in order to make it more time efficient. The dynamic programming technique used here is called memoization. Memoization is when the output of each input is stored to avoid it being calculated again. As shown in the code below, each result of an input is stored in the list called memo, so it can be retrieved again when the same calculation is needed. As shown in the figure below, the function that uses memoization is extremely efficient as it has a big O(n). Which is extremely efficient and scales really well. "
      ],
      "metadata": {
        "id": "5S-bc1gM0nX-"
      }
    },
    {
      "cell_type": "code",
      "source": [
        "memo = [0 for i in range(30)]\n",
        "def ribbon_cut_dyn(length):\n",
        "    if memo[length]!=0:\n",
        "        return memo[length]\n",
        "    else:\n",
        "        if length <5:\n",
        "            memo[length] = length\n",
        "            return length\n",
        "        else:\n",
        "            rn = range(1,length,1)\n",
        "            prod = 0\n",
        "            for i in rn:\n",
        "                x = ribbon_cut_dyn(i) * ribbon_cut_dyn(length - i)\n",
        "                if x > prod:\n",
        "                    prod = x\n",
        "            memo[length] = prod\n",
        "            return prod"
      ],
      "metadata": {
        "id": "u-kFU2Z60WAe"
      },
      "execution_count": 12,
      "outputs": []
    },
    {
      "cell_type": "code",
      "source": [
        "exec_time = []\n",
        "inputs = []\n",
        "for i in range(2,25):\n",
        "    start = time.time()\n",
        "    ribbon_cut_dyn(i)\n",
        "    end = time.time()\n",
        "    change = end-start\n",
        "    exec_time.append(change)\n",
        "    inputs.append(i)"
      ],
      "metadata": {
        "id": "VMXv5tX_015Q"
      },
      "execution_count": 13,
      "outputs": []
    },
    {
      "cell_type": "code",
      "source": [
        "fig, ax = plt.subplots(figsize=(10,6))\n",
        "ax.scatter(inputs, exec_time)\n",
        "ax.set_xlabel('inputs')\n",
        "ax.set_ylabel('execution time')\n",
        "plt.title(\"Ribbon cutting dynamic programming version (memoization)\")\n",
        "plt.show()"
      ],
      "metadata": {
        "colab": {
          "base_uri": "https://localhost:8080/",
          "height": 404
        },
        "id": "pgIc6ouT04oy",
        "outputId": "9816c3c1-aa09-42ff-caad-0627f8389be3"
      },
      "execution_count": 14,
      "outputs": [
        {
          "output_type": "display_data",
          "data": {
            "text/plain": [
              "<Figure size 720x432 with 1 Axes>"
            ],
            "image/png": "[encoded data removed]"
          },
          "metadata": {
            "needs_background": "light"
          }
        }
      ]
    },
    {
      "cell_type": "markdown",
      "source": [
        "4. Evaluate the <ins>running time</ins> of your algorithm for the sizes (Ns) in the __range of [2, 25]__, plot the results, and interpret it (if you have implemented <ins>two algorithms</ins>, please include both in the plot and compare them). "
      ],
      "metadata": {
        "id": "FeIo9lwJ07FB"
      }
    },
    {
      "cell_type": "markdown",
      "source": [
        "As shown in questions 2 and 3, the recursive version without dynamic programming has an exponential time complexity, while the on using it has a linear one. Obviously, the dynamic programming one is much quicker and scales much better for larger inputs as the time taken to compute earlier recursions is already stored. Hence, the number of computations required is much lower and the output is produced significantly faster."
      ],
      "metadata": {
        "id": "GJv6nQnU01C8"
      }
    }
  ]
}