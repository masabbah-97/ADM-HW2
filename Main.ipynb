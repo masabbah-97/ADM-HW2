{
 "cells": [
  {
   "cell_type": "code",
   "execution_count": 1,
   "id": "9916e1af",
   "metadata": {},
   "outputs": [
    {
     "data": {
      "text/html": [
       "<style type='text/css'>\n",
       ".datatable table.frame { margin-bottom: 0; }\n",
       ".datatable table.frame thead { border-bottom: none; }\n",
       ".datatable table.frame tr.coltypes td {  color: #FFFFFF;  line-height: 6px;  padding: 0 0.5em;}\n",
       ".datatable .bool    { background: #DDDD99; }\n",
       ".datatable .object  { background: #565656; }\n",
       ".datatable .int     { background: #5D9E5D; }\n",
       ".datatable .float   { background: #4040CC; }\n",
       ".datatable .str     { background: #CC4040; }\n",
       ".datatable .time    { background: #40CC40; }\n",
       ".datatable .row_index {  background: var(--jp-border-color3);  border-right: 1px solid var(--jp-border-color0);  color: var(--jp-ui-font-color3);  font-size: 9px;}\n",
       ".datatable .frame tbody td { text-align: left; }\n",
       ".datatable .frame tr.coltypes .row_index {  background: var(--jp-border-color0);}\n",
       ".datatable th:nth-child(2) { padding-left: 12px; }\n",
       ".datatable .hellipsis {  color: var(--jp-cell-editor-border-color);}\n",
       ".datatable .vellipsis {  background: var(--jp-layout-color0);  color: var(--jp-cell-editor-border-color);}\n",
       ".datatable .na {  color: var(--jp-cell-editor-border-color);  font-size: 80%;}\n",
       ".datatable .sp {  opacity: 0.25;}\n",
       ".datatable .footer { font-size: 9px; }\n",
       ".datatable .frame_dimensions {  background: var(--jp-border-color3);  border-top: 1px solid var(--jp-border-color0);  color: var(--jp-ui-font-color3);  display: inline-block;  opacity: 0.6;  padding: 1px 10px 1px 5px;}\n",
       "</style>\n"
      ],
      "text/plain": [
       "<IPython.core.display.HTML object>"
      ]
     },
     "metadata": {},
     "output_type": "display_data"
    }
   ],
   "source": [
    "import pandas as pd\n",
    "import numpy as np\n",
    "import seaborn as sns\n",
    "import matplotlib.pyplot as plt\n",
    "import functions\n",
    "import datatable as dt\n",
    "import datetime"
   ]
  },
  {
   "cell_type": "code",
   "execution_count": 89,
   "id": "4b620dfb",
   "metadata": {},
   "outputs": [
    {
     "data": {
      "text/html": [
       "<div>\n",
       "<style scoped>\n",
       "    .dataframe tbody tr th:only-of-type {\n",
       "        vertical-align: middle;\n",
       "    }\n",
       "\n",
       "    .dataframe tbody tr th {\n",
       "        vertical-align: top;\n",
       "    }\n",
       "\n",
       "    .dataframe thead th {\n",
       "        text-align: right;\n",
       "    }\n",
       "</style>\n",
       "<table border=\"1\" class=\"dataframe\">\n",
       "  <thead>\n",
       "    <tr style=\"text-align: right;\">\n",
       "      <th></th>\n",
       "      <th>sid</th>\n",
       "      <th>sid_profile</th>\n",
       "      <th>post_id</th>\n",
       "      <th>profile_id</th>\n",
       "      <th>location_id</th>\n",
       "      <th>cts</th>\n",
       "      <th>post_type</th>\n",
       "      <th>description</th>\n",
       "      <th>numbr_likes</th>\n",
       "      <th>number_comments</th>\n",
       "    </tr>\n",
       "  </thead>\n",
       "  <tbody>\n",
       "    <tr>\n",
       "      <th>0</th>\n",
       "      <td>28370919</td>\n",
       "      <td>3496776</td>\n",
       "      <td>BXdjjUlgcgq</td>\n",
       "      <td>2237947779</td>\n",
       "      <td>1022366247837915</td>\n",
       "      <td>2017-08-06 20:06:57.000</td>\n",
       "      <td>2</td>\n",
       "      <td>Wreckloose! Deevalley bike park laps on the @i...</td>\n",
       "      <td>80</td>\n",
       "      <td>0</td>\n",
       "    </tr>\n",
       "    <tr>\n",
       "      <th>1</th>\n",
       "      <td>28370932</td>\n",
       "      <td>-1</td>\n",
       "      <td>BVg0pbolYBC</td>\n",
       "      <td>5579335020</td>\n",
       "      <td>457426771112991</td>\n",
       "      <td>2017-06-19 09:31:16.000</td>\n",
       "      <td>1</td>\n",
       "      <td>🙌🏼 believe in ya dreams 🙌🏼 just like I believe...</td>\n",
       "      <td>25</td>\n",
       "      <td>1</td>\n",
       "    </tr>\n",
       "    <tr>\n",
       "      <th>2</th>\n",
       "      <td>28370933</td>\n",
       "      <td>-1</td>\n",
       "      <td>BRgkjcXFp3Q</td>\n",
       "      <td>313429634</td>\n",
       "      <td>457426771112991</td>\n",
       "      <td>2017-03-11 20:05:03.000</td>\n",
       "      <td>1</td>\n",
       "      <td>#meraviglia #incensi #the #candele #profumo #a...</td>\n",
       "      <td>9</td>\n",
       "      <td>0</td>\n",
       "    </tr>\n",
       "    <tr>\n",
       "      <th>3</th>\n",
       "      <td>28370934</td>\n",
       "      <td>-1</td>\n",
       "      <td>BKTKeNhjEA7</td>\n",
       "      <td>1837592700</td>\n",
       "      <td>457426771112991</td>\n",
       "      <td>2016-09-13 16:27:16.000</td>\n",
       "      <td>1</td>\n",
       "      <td>#teatime #scorpion #friends #love #mountains #...</td>\n",
       "      <td>4</td>\n",
       "      <td>0</td>\n",
       "    </tr>\n",
       "    <tr>\n",
       "      <th>4</th>\n",
       "      <td>28370935</td>\n",
       "      <td>-1</td>\n",
       "      <td>8-NQrvoYLX</td>\n",
       "      <td>1131527143</td>\n",
       "      <td>457426771112991</td>\n",
       "      <td>2015-10-18 10:19:27.000</td>\n",
       "      <td>1</td>\n",
       "      <td>thE sky gavE mE a #constEllation</td>\n",
       "      <td>8</td>\n",
       "      <td>0</td>\n",
       "    </tr>\n",
       "    <tr>\n",
       "      <th>...</th>\n",
       "      <td>...</td>\n",
       "      <td>...</td>\n",
       "      <td>...</td>\n",
       "      <td>...</td>\n",
       "      <td>...</td>\n",
       "      <td>...</td>\n",
       "      <td>...</td>\n",
       "      <td>...</td>\n",
       "      <td>...</td>\n",
       "      <td>...</td>\n",
       "    </tr>\n",
       "    <tr>\n",
       "      <th>95</th>\n",
       "      <td>28371027</td>\n",
       "      <td>-1</td>\n",
       "      <td>ByDrXj_gTxY</td>\n",
       "      <td>574033685</td>\n",
       "      <td>571655810</td>\n",
       "      <td>2019-05-29 21:05:51.000</td>\n",
       "      <td>2</td>\n",
       "      <td>@gioliandassia #handpatSet #Diesislive</td>\n",
       "      <td>18</td>\n",
       "      <td>0</td>\n",
       "    </tr>\n",
       "    <tr>\n",
       "      <th>96</th>\n",
       "      <td>28371028</td>\n",
       "      <td>-1</td>\n",
       "      <td>ByCVWdpg0nm</td>\n",
       "      <td>10175333523</td>\n",
       "      <td>571655810</td>\n",
       "      <td>2019-05-29 08:31:00.000</td>\n",
       "      <td>1</td>\n",
       "      <td>Offering fine dining, excellent views, world c...</td>\n",
       "      <td>20</td>\n",
       "      <td>1</td>\n",
       "    </tr>\n",
       "    <tr>\n",
       "      <th>97</th>\n",
       "      <td>28371029</td>\n",
       "      <td>-1</td>\n",
       "      <td>ByBTSKSoyxG</td>\n",
       "      <td>51742692</td>\n",
       "      <td>571655810</td>\n",
       "      <td>2019-05-28 22:53:42.000</td>\n",
       "      <td>1</td>\n",
       "      <td>Walking up to the crater of Vulcano island is ...</td>\n",
       "      <td>22</td>\n",
       "      <td>0</td>\n",
       "    </tr>\n",
       "    <tr>\n",
       "      <th>98</th>\n",
       "      <td>28371030</td>\n",
       "      <td>-1</td>\n",
       "      <td>ByBR4L1i9NM</td>\n",
       "      <td>4632353135</td>\n",
       "      <td>571655810</td>\n",
       "      <td>2019-05-28 22:45:04.000</td>\n",
       "      <td>2</td>\n",
       "      <td>Although less known than the other islands, #v...</td>\n",
       "      <td>15</td>\n",
       "      <td>0</td>\n",
       "    </tr>\n",
       "    <tr>\n",
       "      <th>99</th>\n",
       "      <td>28371087</td>\n",
       "      <td>-1</td>\n",
       "      <td>Bw1g6h5HXWl</td>\n",
       "      <td>4442361096</td>\n",
       "      <td>708353895</td>\n",
       "      <td>2019-04-29 12:30:31.000</td>\n",
       "      <td>1</td>\n",
       "      <td>😋</td>\n",
       "      <td>131</td>\n",
       "      <td>2</td>\n",
       "    </tr>\n",
       "  </tbody>\n",
       "</table>\n",
       "<p>100 rows × 10 columns</p>\n",
       "</div>"
      ],
      "text/plain": [
       "         sid  sid_profile      post_id   profile_id       location_id  \\\n",
       "0   28370919      3496776  BXdjjUlgcgq   2237947779  1022366247837915   \n",
       "1   28370932           -1  BVg0pbolYBC   5579335020   457426771112991   \n",
       "2   28370933           -1  BRgkjcXFp3Q    313429634   457426771112991   \n",
       "3   28370934           -1  BKTKeNhjEA7   1837592700   457426771112991   \n",
       "4   28370935           -1   8-NQrvoYLX   1131527143   457426771112991   \n",
       "..       ...          ...          ...          ...               ...   \n",
       "95  28371027           -1  ByDrXj_gTxY    574033685         571655810   \n",
       "96  28371028           -1  ByCVWdpg0nm  10175333523         571655810   \n",
       "97  28371029           -1  ByBTSKSoyxG     51742692         571655810   \n",
       "98  28371030           -1  ByBR4L1i9NM   4632353135         571655810   \n",
       "99  28371087           -1  Bw1g6h5HXWl   4442361096         708353895   \n",
       "\n",
       "                        cts  post_type  \\\n",
       "0   2017-08-06 20:06:57.000          2   \n",
       "1   2017-06-19 09:31:16.000          1   \n",
       "2   2017-03-11 20:05:03.000          1   \n",
       "3   2016-09-13 16:27:16.000          1   \n",
       "4   2015-10-18 10:19:27.000          1   \n",
       "..                      ...        ...   \n",
       "95  2019-05-29 21:05:51.000          2   \n",
       "96  2019-05-29 08:31:00.000          1   \n",
       "97  2019-05-28 22:53:42.000          1   \n",
       "98  2019-05-28 22:45:04.000          2   \n",
       "99  2019-04-29 12:30:31.000          1   \n",
       "\n",
       "                                          description  numbr_likes  \\\n",
       "0   Wreckloose! Deevalley bike park laps on the @i...           80   \n",
       "1   🙌🏼 believe in ya dreams 🙌🏼 just like I believe...           25   \n",
       "2   #meraviglia #incensi #the #candele #profumo #a...            9   \n",
       "3   #teatime #scorpion #friends #love #mountains #...            4   \n",
       "4                    thE sky gavE mE a #constEllation            8   \n",
       "..                                                ...          ...   \n",
       "95             @gioliandassia #handpatSet #Diesislive           18   \n",
       "96  Offering fine dining, excellent views, world c...           20   \n",
       "97  Walking up to the crater of Vulcano island is ...           22   \n",
       "98  Although less known than the other islands, #v...           15   \n",
       "99                                                  😋          131   \n",
       "\n",
       "    number_comments  \n",
       "0                 0  \n",
       "1                 1  \n",
       "2                 0  \n",
       "3                 0  \n",
       "4                 0  \n",
       "..              ...  \n",
       "95                0  \n",
       "96                1  \n",
       "97                0  \n",
       "98                0  \n",
       "99                2  \n",
       "\n",
       "[100 rows x 10 columns]"
      ]
     },
     "execution_count": 89,
     "metadata": {},
     "output_type": "execute_result"
    }
   ],
   "source": [
    "df_locations = pd.read_csv('Data/instagram_locations.csv',sep='\\t')\n",
    "#df_posts = pd.read_csv('Data/instagram_posts.csv',sep='\\t')\n",
    "df_profiles = pd.read_csv('Data/instagram_profiles.csv',sep='\\t')\n",
    "df_posts = pd.read_csv('Data/instagram_posts.csv',sep='\\t', iterator=True)\n",
    "df_posts.get_chunk(100)"
   ]
  },
  {
   "cell_type": "code",
   "execution_count": 5,
   "id": "cc4ecc0f",
   "metadata": {},
   "outputs": [
    {
     "data": {
      "text/html": [
       "<div>\n",
       "<style scoped>\n",
       "    .dataframe tbody tr th:only-of-type {\n",
       "        vertical-align: middle;\n",
       "    }\n",
       "\n",
       "    .dataframe tbody tr th {\n",
       "        vertical-align: top;\n",
       "    }\n",
       "\n",
       "    .dataframe thead th {\n",
       "        text-align: right;\n",
       "    }\n",
       "</style>\n",
       "<table border=\"1\" class=\"dataframe\">\n",
       "  <thead>\n",
       "    <tr style=\"text-align: right;\">\n",
       "      <th></th>\n",
       "      <th>sid</th>\n",
       "      <th>id</th>\n",
       "      <th>name</th>\n",
       "      <th>street</th>\n",
       "      <th>zip</th>\n",
       "      <th>city</th>\n",
       "      <th>region</th>\n",
       "      <th>cd</th>\n",
       "      <th>phone</th>\n",
       "      <th>aj_exact_city_match</th>\n",
       "      <th>...</th>\n",
       "      <th>dir_city_name</th>\n",
       "      <th>dir_city_slug</th>\n",
       "      <th>dir_country_id</th>\n",
       "      <th>dir_country_name</th>\n",
       "      <th>lat</th>\n",
       "      <th>lng</th>\n",
       "      <th>primary_alias_on_fb</th>\n",
       "      <th>slug</th>\n",
       "      <th>website</th>\n",
       "      <th>cts</th>\n",
       "    </tr>\n",
       "  </thead>\n",
       "  <tbody>\n",
       "    <tr>\n",
       "      <th>0</th>\n",
       "      <td>719981</td>\n",
       "      <td>110296492939207</td>\n",
       "      <td>Playa de Daimuz - Valencia, España</td>\n",
       "      <td>NaN</td>\n",
       "      <td>NaN</td>\n",
       "      <td>NaN</td>\n",
       "      <td>NaN</td>\n",
       "      <td>NaN</td>\n",
       "      <td>NaN</td>\n",
       "      <td>False</td>\n",
       "      <td>...</td>\n",
       "      <td>NaN</td>\n",
       "      <td>NaN</td>\n",
       "      <td>NaN</td>\n",
       "      <td>NaN</td>\n",
       "      <td>-0.139475</td>\n",
       "      <td>38.974391</td>\n",
       "      <td>daimuzplaya</td>\n",
       "      <td>playa-de-daimuz-valencia-espana</td>\n",
       "      <td>https://es.wikipedia.org/wiki/Daimuz</td>\n",
       "      <td>2019-05-29 01:21:29.987</td>\n",
       "    </tr>\n",
       "    <tr>\n",
       "      <th>1</th>\n",
       "      <td>719983</td>\n",
       "      <td>274391278</td>\n",
       "      <td>Nová Vieska</td>\n",
       "      <td>NaN</td>\n",
       "      <td>NaN</td>\n",
       "      <td>Nová Vieska</td>\n",
       "      <td>NaN</td>\n",
       "      <td>SK</td>\n",
       "      <td>NaN</td>\n",
       "      <td>True</td>\n",
       "      <td>...</td>\n",
       "      <td>Kis-Újfalu</td>\n",
       "      <td>kis-ujfalu</td>\n",
       "      <td>SK</td>\n",
       "      <td>Slovakia</td>\n",
       "      <td>18.466667</td>\n",
       "      <td>47.866667</td>\n",
       "      <td>NaN</td>\n",
       "      <td>nova-vieska</td>\n",
       "      <td>NaN</td>\n",
       "      <td>2019-05-29 01:21:38.037</td>\n",
       "    </tr>\n",
       "    <tr>\n",
       "      <th>2</th>\n",
       "      <td>719985</td>\n",
       "      <td>148885595789195</td>\n",
       "      <td>Everest Today</td>\n",
       "      <td>Himalayas</td>\n",
       "      <td>+977</td>\n",
       "      <td>Kathmandu, Nepal</td>\n",
       "      <td>NaN</td>\n",
       "      <td>NP</td>\n",
       "      <td>NaN</td>\n",
       "      <td>False</td>\n",
       "      <td>...</td>\n",
       "      <td>Pasupati</td>\n",
       "      <td>pasupati</td>\n",
       "      <td>NP</td>\n",
       "      <td>Nepal</td>\n",
       "      <td>85.330150</td>\n",
       "      <td>27.701960</td>\n",
       "      <td>EverestToday</td>\n",
       "      <td>everest-today</td>\n",
       "      <td>NaN</td>\n",
       "      <td>2019-05-29 01:21:46.295</td>\n",
       "    </tr>\n",
       "    <tr>\n",
       "      <th>3</th>\n",
       "      <td>719987</td>\n",
       "      <td>263258277</td>\n",
       "      <td>BULAC - Bibliothèque universitaire des langues...</td>\n",
       "      <td>65, rue des Grands-Moulins</td>\n",
       "      <td>75013</td>\n",
       "      <td>Paris, France</td>\n",
       "      <td>NaN</td>\n",
       "      <td>FR</td>\n",
       "      <td>01 81 69 18 00</td>\n",
       "      <td>False</td>\n",
       "      <td>...</td>\n",
       "      <td>13ème Arrondissement Paris</td>\n",
       "      <td>13eme-arrondissement-paris</td>\n",
       "      <td>FR</td>\n",
       "      <td>France</td>\n",
       "      <td>2.375995</td>\n",
       "      <td>48.827240</td>\n",
       "      <td>BULAC.Paris</td>\n",
       "      <td>bulac-bibliotheque-universitaire-des-langues-e...</td>\n",
       "      <td>www.bulac.fr</td>\n",
       "      <td>2019-05-29 01:21:54.355</td>\n",
       "    </tr>\n",
       "    <tr>\n",
       "      <th>4</th>\n",
       "      <td>326443</td>\n",
       "      <td>406147529857708</td>\n",
       "      <td>ABC Cable Networks Group</td>\n",
       "      <td>3800 W Alameda Ave</td>\n",
       "      <td>91505</td>\n",
       "      <td>Burbank, California</td>\n",
       "      <td>NaN</td>\n",
       "      <td>US</td>\n",
       "      <td>(818) 569-7500</td>\n",
       "      <td>False</td>\n",
       "      <td>...</td>\n",
       "      <td>NaN</td>\n",
       "      <td>NaN</td>\n",
       "      <td>NaN</td>\n",
       "      <td>NaN</td>\n",
       "      <td>-118.341864</td>\n",
       "      <td>34.153265</td>\n",
       "      <td>NaN</td>\n",
       "      <td>abc-cable-networks-group</td>\n",
       "      <td>NaN</td>\n",
       "      <td>2019-04-02 15:22:55.703</td>\n",
       "    </tr>\n",
       "  </tbody>\n",
       "</table>\n",
       "<p>5 rows × 23 columns</p>\n",
       "</div>"
      ],
      "text/plain": [
       "      sid               id                                               name  \\\n",
       "0  719981  110296492939207                 Playa de Daimuz - Valencia, España   \n",
       "1  719983        274391278                                        Nová Vieska   \n",
       "2  719985  148885595789195                                      Everest Today   \n",
       "3  719987        263258277  BULAC - Bibliothèque universitaire des langues...   \n",
       "4  326443  406147529857708                           ABC Cable Networks Group   \n",
       "\n",
       "                       street    zip                 city region   cd  \\\n",
       "0                         NaN    NaN                  NaN    NaN  NaN   \n",
       "1                         NaN    NaN          Nová Vieska    NaN   SK   \n",
       "2                   Himalayas   +977     Kathmandu, Nepal    NaN   NP   \n",
       "3  65, rue des Grands-Moulins  75013        Paris, France    NaN   FR   \n",
       "4          3800 W Alameda Ave  91505  Burbank, California    NaN   US   \n",
       "\n",
       "            phone aj_exact_city_match  ...               dir_city_name  \\\n",
       "0             NaN               False  ...                         NaN   \n",
       "1             NaN                True  ...                  Kis-Újfalu   \n",
       "2             NaN               False  ...                    Pasupati   \n",
       "3  01 81 69 18 00               False  ...  13ème Arrondissement Paris   \n",
       "4  (818) 569-7500               False  ...                         NaN   \n",
       "\n",
       "                dir_city_slug dir_country_id dir_country_name         lat  \\\n",
       "0                         NaN            NaN              NaN   -0.139475   \n",
       "1                  kis-ujfalu             SK         Slovakia   18.466667   \n",
       "2                    pasupati             NP            Nepal   85.330150   \n",
       "3  13eme-arrondissement-paris             FR           France    2.375995   \n",
       "4                         NaN            NaN              NaN -118.341864   \n",
       "\n",
       "         lng primary_alias_on_fb  \\\n",
       "0  38.974391         daimuzplaya   \n",
       "1  47.866667                 NaN   \n",
       "2  27.701960        EverestToday   \n",
       "3  48.827240         BULAC.Paris   \n",
       "4  34.153265                 NaN   \n",
       "\n",
       "                                                slug  \\\n",
       "0                    playa-de-daimuz-valencia-espana   \n",
       "1                                        nova-vieska   \n",
       "2                                      everest-today   \n",
       "3  bulac-bibliotheque-universitaire-des-langues-e...   \n",
       "4                           abc-cable-networks-group   \n",
       "\n",
       "                                website                      cts  \n",
       "0  https://es.wikipedia.org/wiki/Daimuz  2019-05-29 01:21:29.987  \n",
       "1                                   NaN  2019-05-29 01:21:38.037  \n",
       "2                                   NaN  2019-05-29 01:21:46.295  \n",
       "3                          www.bulac.fr  2019-05-29 01:21:54.355  \n",
       "4                                   NaN  2019-04-02 15:22:55.703  \n",
       "\n",
       "[5 rows x 23 columns]"
      ]
     },
     "execution_count": 5,
     "metadata": {},
     "output_type": "execute_result"
    }
   ],
   "source": [
    "df_locations.head()"
   ]
  },
  {
   "cell_type": "code",
   "execution_count": 41,
   "id": "7bad34ae",
   "metadata": {},
   "outputs": [
    {
     "data": {
      "text/html": [
       "<div>\n",
       "<style scoped>\n",
       "    .dataframe tbody tr th:only-of-type {\n",
       "        vertical-align: middle;\n",
       "    }\n",
       "\n",
       "    .dataframe tbody tr th {\n",
       "        vertical-align: top;\n",
       "    }\n",
       "\n",
       "    .dataframe thead th {\n",
       "        text-align: right;\n",
       "    }\n",
       "</style>\n",
       "<table border=\"1\" class=\"dataframe\">\n",
       "  <thead>\n",
       "    <tr style=\"text-align: right;\">\n",
       "      <th></th>\n",
       "      <th>sid</th>\n",
       "      <th>profile_id</th>\n",
       "      <th>profile_name</th>\n",
       "      <th>firstname_lastname</th>\n",
       "      <th>description</th>\n",
       "      <th>following</th>\n",
       "      <th>followers</th>\n",
       "      <th>n_posts</th>\n",
       "      <th>url</th>\n",
       "      <th>cts</th>\n",
       "      <th>is_business_account</th>\n",
       "    </tr>\n",
       "  </thead>\n",
       "  <tbody>\n",
       "    <tr>\n",
       "      <th>0</th>\n",
       "      <td>4184446</td>\n",
       "      <td>4.721050e+09</td>\n",
       "      <td>jphillip033</td>\n",
       "      <td>John Pierce</td>\n",
       "      <td>\"Document Everything Always\"</td>\n",
       "      <td>250.0</td>\n",
       "      <td>146.0</td>\n",
       "      <td>170.0</td>\n",
       "      <td>NaN</td>\n",
       "      <td>2019-08-01 14:38:55.394 -0400</td>\n",
       "      <td>False</td>\n",
       "    </tr>\n",
       "    <tr>\n",
       "      <th>1</th>\n",
       "      <td>4184457</td>\n",
       "      <td>5.905830e+08</td>\n",
       "      <td>mama_haas</td>\n",
       "      <td>Deanna</td>\n",
       "      <td>Trying to enjoy the simple things in life. Kni...</td>\n",
       "      <td>534.0</td>\n",
       "      <td>1145.0</td>\n",
       "      <td>2878.0</td>\n",
       "      <td>www.etsy.com/shop/MamaHaas69</td>\n",
       "      <td>2019-08-01 14:39:36.526 -0400</td>\n",
       "      <td>False</td>\n",
       "    </tr>\n",
       "    <tr>\n",
       "      <th>2</th>\n",
       "      <td>4184460</td>\n",
       "      <td>1.074147e+09</td>\n",
       "      <td>yellowlightbreen</td>\n",
       "      <td>Eliza Gray</td>\n",
       "      <td>Maine is for Lovers</td>\n",
       "      <td>469.0</td>\n",
       "      <td>324.0</td>\n",
       "      <td>431.0</td>\n",
       "      <td>elizajanegray.com</td>\n",
       "      <td>2019-08-01 14:39:54.407 -0400</td>\n",
       "      <td>False</td>\n",
       "    </tr>\n",
       "    <tr>\n",
       "      <th>3</th>\n",
       "      <td>4184461</td>\n",
       "      <td>1.472039e+09</td>\n",
       "      <td>tec1025</td>\n",
       "      <td>Thomas Clark</td>\n",
       "      <td>NaN</td>\n",
       "      <td>NaN</td>\n",
       "      <td>NaN</td>\n",
       "      <td>NaN</td>\n",
       "      <td>NaN</td>\n",
       "      <td>2019-08-01 14:40:06.472 -0400</td>\n",
       "      <td>NaN</td>\n",
       "    </tr>\n",
       "    <tr>\n",
       "      <th>4</th>\n",
       "      <td>4184462</td>\n",
       "      <td>3.531421e+09</td>\n",
       "      <td>luckyfluff</td>\n",
       "      <td>NaN</td>\n",
       "      <td>NaN</td>\n",
       "      <td>NaN</td>\n",
       "      <td>NaN</td>\n",
       "      <td>NaN</td>\n",
       "      <td>NaN</td>\n",
       "      <td>2019-08-01 14:40:07.806 -0400</td>\n",
       "      <td>NaN</td>\n",
       "    </tr>\n",
       "  </tbody>\n",
       "</table>\n",
       "</div>"
      ],
      "text/plain": [
       "       sid    profile_id      profile_name firstname_lastname  \\\n",
       "0  4184446  4.721050e+09       jphillip033        John Pierce   \n",
       "1  4184457  5.905830e+08         mama_haas             Deanna   \n",
       "2  4184460  1.074147e+09  yellowlightbreen         Eliza Gray   \n",
       "3  4184461  1.472039e+09           tec1025       Thomas Clark   \n",
       "4  4184462  3.531421e+09        luckyfluff                NaN   \n",
       "\n",
       "                                         description  following  followers  \\\n",
       "0                       \"Document Everything Always\"      250.0      146.0   \n",
       "1  Trying to enjoy the simple things in life. Kni...      534.0     1145.0   \n",
       "2                                Maine is for Lovers      469.0      324.0   \n",
       "3                                                NaN        NaN        NaN   \n",
       "4                                                NaN        NaN        NaN   \n",
       "\n",
       "   n_posts                           url                            cts  \\\n",
       "0    170.0                           NaN  2019-08-01 14:38:55.394 -0400   \n",
       "1   2878.0  www.etsy.com/shop/MamaHaas69  2019-08-01 14:39:36.526 -0400   \n",
       "2    431.0             elizajanegray.com  2019-08-01 14:39:54.407 -0400   \n",
       "3      NaN                           NaN  2019-08-01 14:40:06.472 -0400   \n",
       "4      NaN                           NaN  2019-08-01 14:40:07.806 -0400   \n",
       "\n",
       "  is_business_account  \n",
       "0               False  \n",
       "1               False  \n",
       "2               False  \n",
       "3                 NaN  \n",
       "4                 NaN  "
      ]
     },
     "execution_count": 41,
     "metadata": {},
     "output_type": "execute_result"
    }
   ],
   "source": [
    "df_profiles.head()\n"
   ]
  },
  {
   "cell_type": "code",
   "execution_count": 44,
   "id": "c30ca9a2",
   "metadata": {},
   "outputs": [],
   "source": [
    "df_profiles = df_profiles.dropna(subset = ['followers', 'following','url','n_posts']) \n",
    "df_profiles = df_profiles.drop(columns = ['description'])\n"
   ]
  },
  {
   "cell_type": "code",
   "execution_count": 45,
   "id": "3da64315",
   "metadata": {},
   "outputs": [
    {
     "data": {
      "text/html": [
       "<div>\n",
       "<style scoped>\n",
       "    .dataframe tbody tr th:only-of-type {\n",
       "        vertical-align: middle;\n",
       "    }\n",
       "\n",
       "    .dataframe tbody tr th {\n",
       "        vertical-align: top;\n",
       "    }\n",
       "\n",
       "    .dataframe thead th {\n",
       "        text-align: right;\n",
       "    }\n",
       "</style>\n",
       "<table border=\"1\" class=\"dataframe\">\n",
       "  <thead>\n",
       "    <tr style=\"text-align: right;\">\n",
       "      <th></th>\n",
       "      <th>sid</th>\n",
       "      <th>profile_id</th>\n",
       "      <th>profile_name</th>\n",
       "      <th>firstname_lastname</th>\n",
       "      <th>following</th>\n",
       "      <th>followers</th>\n",
       "      <th>n_posts</th>\n",
       "      <th>url</th>\n",
       "      <th>cts</th>\n",
       "      <th>is_business_account</th>\n",
       "    </tr>\n",
       "  </thead>\n",
       "  <tbody>\n",
       "    <tr>\n",
       "      <th>1</th>\n",
       "      <td>4184457</td>\n",
       "      <td>5.905830e+08</td>\n",
       "      <td>mama_haas</td>\n",
       "      <td>Deanna</td>\n",
       "      <td>534.0</td>\n",
       "      <td>1145.0</td>\n",
       "      <td>2878.0</td>\n",
       "      <td>www.etsy.com/shop/MamaHaas69</td>\n",
       "      <td>2019-08-01 14:39:36.526 -0400</td>\n",
       "      <td>False</td>\n",
       "    </tr>\n",
       "    <tr>\n",
       "      <th>2</th>\n",
       "      <td>4184460</td>\n",
       "      <td>1.074147e+09</td>\n",
       "      <td>yellowlightbreen</td>\n",
       "      <td>Eliza Gray</td>\n",
       "      <td>469.0</td>\n",
       "      <td>324.0</td>\n",
       "      <td>431.0</td>\n",
       "      <td>elizajanegray.com</td>\n",
       "      <td>2019-08-01 14:39:54.407 -0400</td>\n",
       "      <td>False</td>\n",
       "    </tr>\n",
       "    <tr>\n",
       "      <th>6</th>\n",
       "      <td>4184471</td>\n",
       "      <td>2.061868e+09</td>\n",
       "      <td>masslivehs</td>\n",
       "      <td>MassLive High School Sports</td>\n",
       "      <td>157.0</td>\n",
       "      <td>4137.0</td>\n",
       "      <td>753.0</td>\n",
       "      <td>bit.ly/2HIysyv</td>\n",
       "      <td>2019-08-01 14:40:40.390 -0400</td>\n",
       "      <td>True</td>\n",
       "    </tr>\n",
       "    <tr>\n",
       "      <th>13</th>\n",
       "      <td>4184486</td>\n",
       "      <td>3.041392e+08</td>\n",
       "      <td>katepani413</td>\n",
       "      <td>kp!!!! ☆</td>\n",
       "      <td>1543.0</td>\n",
       "      <td>3008.0</td>\n",
       "      <td>115.0</td>\n",
       "      <td>vsco.co/kpani</td>\n",
       "      <td>2019-08-01 14:41:46.967 -0400</td>\n",
       "      <td>True</td>\n",
       "    </tr>\n",
       "    <tr>\n",
       "      <th>50</th>\n",
       "      <td>4184480</td>\n",
       "      <td>9.947274e+09</td>\n",
       "      <td>jk_vastgoed</td>\n",
       "      <td>JK VASTGOED</td>\n",
       "      <td>215.0</td>\n",
       "      <td>182.0</td>\n",
       "      <td>14.0</td>\n",
       "      <td>www.jkvastgoed.be</td>\n",
       "      <td>2019-08-01 14:41:25.930 -0400</td>\n",
       "      <td>True</td>\n",
       "    </tr>\n",
       "  </tbody>\n",
       "</table>\n",
       "</div>"
      ],
      "text/plain": [
       "        sid    profile_id      profile_name           firstname_lastname  \\\n",
       "1   4184457  5.905830e+08         mama_haas                       Deanna   \n",
       "2   4184460  1.074147e+09  yellowlightbreen                   Eliza Gray   \n",
       "6   4184471  2.061868e+09        masslivehs  MassLive High School Sports   \n",
       "13  4184486  3.041392e+08       katepani413                     kp!!!! ☆   \n",
       "50  4184480  9.947274e+09       jk_vastgoed                  JK VASTGOED   \n",
       "\n",
       "    following  followers  n_posts                           url  \\\n",
       "1       534.0     1145.0   2878.0  www.etsy.com/shop/MamaHaas69   \n",
       "2       469.0      324.0    431.0             elizajanegray.com   \n",
       "6       157.0     4137.0    753.0                bit.ly/2HIysyv   \n",
       "13     1543.0     3008.0    115.0                 vsco.co/kpani   \n",
       "50      215.0      182.0     14.0             www.jkvastgoed.be   \n",
       "\n",
       "                              cts is_business_account  \n",
       "1   2019-08-01 14:39:36.526 -0400               False  \n",
       "2   2019-08-01 14:39:54.407 -0400               False  \n",
       "6   2019-08-01 14:40:40.390 -0400                True  \n",
       "13  2019-08-01 14:41:46.967 -0400                True  \n",
       "50  2019-08-01 14:41:25.930 -0400                True  "
      ]
     },
     "execution_count": 45,
     "metadata": {},
     "output_type": "execute_result"
    }
   ],
   "source": [
    "df_profiles.head()"
   ]
  },
  {
   "cell_type": "code",
   "execution_count": 46,
   "id": "0c03b31f",
   "metadata": {},
   "outputs": [
    {
     "data": {
      "text/plain": [
       "sid                      int64\n",
       "profile_id             float64\n",
       "profile_name            object\n",
       "firstname_lastname      object\n",
       "following              float64\n",
       "followers              float64\n",
       "n_posts                float64\n",
       "url                     object\n",
       "cts                     object\n",
       "is_business_account     object\n",
       "dtype: object"
      ]
     },
     "execution_count": 46,
     "metadata": {},
     "output_type": "execute_result"
    }
   ],
   "source": [
    "df_profiles.dtypes"
   ]
  },
  {
   "cell_type": "code",
   "execution_count": 47,
   "id": "267ed3be",
   "metadata": {},
   "outputs": [],
   "source": [
    "df_profiles = df_profiles.rename(columns = {'profile_id':'Profile ID', 'profile_name':'Profile name','firstname_lastname':'Fullname','n_posts':'Number of posts','is_business_account':'Business Account'})"
   ]
  },
  {
   "cell_type": "code",
   "execution_count": 48,
   "id": "aa2a1afb",
   "metadata": {},
   "outputs": [
    {
     "data": {
      "text/plain": [
       "(870274, 10)"
      ]
     },
     "execution_count": 48,
     "metadata": {},
     "output_type": "execute_result"
    }
   ],
   "source": [
    "df_profiles.shape"
   ]
  },
  {
   "cell_type": "code",
   "execution_count": 49,
   "id": "a80cd784",
   "metadata": {},
   "outputs": [
    {
     "name": "stdout",
     "output_type": "stream",
     "text": [
      "number of duplicate rows:  (0, 10)\n"
     ]
    }
   ],
   "source": [
    "duplicate_rows_df = df_profiles[df_profiles.duplicated()]\n",
    "print(\"number of duplicate rows: \", duplicate_rows_df.shape)"
   ]
  },
  {
   "cell_type": "code",
   "execution_count": 50,
   "id": "a094f310",
   "metadata": {},
   "outputs": [],
   "source": [
    "df_profiles = df_profiles.drop_duplicates()"
   ]
  },
  {
   "cell_type": "code",
   "execution_count": 51,
   "id": "2af3d75c",
   "metadata": {},
   "outputs": [
    {
     "data": {
      "text/plain": [
       "(870274, 10)"
      ]
     },
     "execution_count": 51,
     "metadata": {},
     "output_type": "execute_result"
    }
   ],
   "source": [
    "df_profiles.shape"
   ]
  },
  {
   "cell_type": "code",
   "execution_count": 52,
   "id": "02d8f6b3",
   "metadata": {},
   "outputs": [
    {
     "name": "stdout",
     "output_type": "stream",
     "text": [
      "sid                     0\n",
      "Profile ID           1237\n",
      "Profile name            0\n",
      "Fullname            18313\n",
      "following               0\n",
      "followers               0\n",
      "Number of posts         0\n",
      "url                     0\n",
      "cts                 57315\n",
      "Business Account     2737\n",
      "dtype: int64\n"
     ]
    }
   ],
   "source": [
    "print(df_profiles.isnull().sum())"
   ]
  },
  {
   "cell_type": "code",
   "execution_count": 54,
   "id": "b6ba9747",
   "metadata": {},
   "outputs": [
    {
     "data": {
      "text/html": [
       "<div>\n",
       "<style scoped>\n",
       "    .dataframe tbody tr th:only-of-type {\n",
       "        vertical-align: middle;\n",
       "    }\n",
       "\n",
       "    .dataframe tbody tr th {\n",
       "        vertical-align: top;\n",
       "    }\n",
       "\n",
       "    .dataframe thead th {\n",
       "        text-align: right;\n",
       "    }\n",
       "</style>\n",
       "<table border=\"1\" class=\"dataframe\">\n",
       "  <thead>\n",
       "    <tr style=\"text-align: right;\">\n",
       "      <th></th>\n",
       "      <th>sid</th>\n",
       "      <th>Profile ID</th>\n",
       "      <th>Profile name</th>\n",
       "      <th>Fullname</th>\n",
       "      <th>following</th>\n",
       "      <th>followers</th>\n",
       "      <th>Number of posts</th>\n",
       "      <th>url</th>\n",
       "      <th>cts</th>\n",
       "      <th>Business Account</th>\n",
       "    </tr>\n",
       "  </thead>\n",
       "  <tbody>\n",
       "    <tr>\n",
       "      <th>1</th>\n",
       "      <td>4184457</td>\n",
       "      <td>5.905830e+08</td>\n",
       "      <td>mama_haas</td>\n",
       "      <td>Deanna</td>\n",
       "      <td>534.0</td>\n",
       "      <td>1145.0</td>\n",
       "      <td>2878.0</td>\n",
       "      <td>www.etsy.com/shop/MamaHaas69</td>\n",
       "      <td>2019-08-01 14:39:36.526 -0400</td>\n",
       "      <td>False</td>\n",
       "    </tr>\n",
       "    <tr>\n",
       "      <th>2</th>\n",
       "      <td>4184460</td>\n",
       "      <td>1.074147e+09</td>\n",
       "      <td>yellowlightbreen</td>\n",
       "      <td>Eliza Gray</td>\n",
       "      <td>469.0</td>\n",
       "      <td>324.0</td>\n",
       "      <td>431.0</td>\n",
       "      <td>elizajanegray.com</td>\n",
       "      <td>2019-08-01 14:39:54.407 -0400</td>\n",
       "      <td>False</td>\n",
       "    </tr>\n",
       "    <tr>\n",
       "      <th>6</th>\n",
       "      <td>4184471</td>\n",
       "      <td>2.061868e+09</td>\n",
       "      <td>masslivehs</td>\n",
       "      <td>MassLive High School Sports</td>\n",
       "      <td>157.0</td>\n",
       "      <td>4137.0</td>\n",
       "      <td>753.0</td>\n",
       "      <td>bit.ly/2HIysyv</td>\n",
       "      <td>2019-08-01 14:40:40.390 -0400</td>\n",
       "      <td>True</td>\n",
       "    </tr>\n",
       "    <tr>\n",
       "      <th>13</th>\n",
       "      <td>4184486</td>\n",
       "      <td>3.041392e+08</td>\n",
       "      <td>katepani413</td>\n",
       "      <td>kp!!!! ☆</td>\n",
       "      <td>1543.0</td>\n",
       "      <td>3008.0</td>\n",
       "      <td>115.0</td>\n",
       "      <td>vsco.co/kpani</td>\n",
       "      <td>2019-08-01 14:41:46.967 -0400</td>\n",
       "      <td>True</td>\n",
       "    </tr>\n",
       "    <tr>\n",
       "      <th>50</th>\n",
       "      <td>4184480</td>\n",
       "      <td>9.947274e+09</td>\n",
       "      <td>jk_vastgoed</td>\n",
       "      <td>JK VASTGOED</td>\n",
       "      <td>215.0</td>\n",
       "      <td>182.0</td>\n",
       "      <td>14.0</td>\n",
       "      <td>www.jkvastgoed.be</td>\n",
       "      <td>2019-08-01 14:41:25.930 -0400</td>\n",
       "      <td>True</td>\n",
       "    </tr>\n",
       "  </tbody>\n",
       "</table>\n",
       "</div>"
      ],
      "text/plain": [
       "        sid    Profile ID      Profile name                     Fullname  \\\n",
       "1   4184457  5.905830e+08         mama_haas                       Deanna   \n",
       "2   4184460  1.074147e+09  yellowlightbreen                   Eliza Gray   \n",
       "6   4184471  2.061868e+09        masslivehs  MassLive High School Sports   \n",
       "13  4184486  3.041392e+08       katepani413                     kp!!!! ☆   \n",
       "50  4184480  9.947274e+09       jk_vastgoed                  JK VASTGOED   \n",
       "\n",
       "    following  followers  Number of posts                           url  \\\n",
       "1       534.0     1145.0           2878.0  www.etsy.com/shop/MamaHaas69   \n",
       "2       469.0      324.0            431.0             elizajanegray.com   \n",
       "6       157.0     4137.0            753.0                bit.ly/2HIysyv   \n",
       "13     1543.0     3008.0            115.0                 vsco.co/kpani   \n",
       "50      215.0      182.0             14.0             www.jkvastgoed.be   \n",
       "\n",
       "                              cts Business Account  \n",
       "1   2019-08-01 14:39:36.526 -0400            False  \n",
       "2   2019-08-01 14:39:54.407 -0400            False  \n",
       "6   2019-08-01 14:40:40.390 -0400             True  \n",
       "13  2019-08-01 14:41:46.967 -0400             True  \n",
       "50  2019-08-01 14:41:25.930 -0400             True  "
      ]
     },
     "execution_count": 54,
     "metadata": {},
     "output_type": "execute_result"
    }
   ],
   "source": [
    "df_profiles.head()"
   ]
  },
  {
   "cell_type": "code",
   "execution_count": 86,
   "id": "febe34f1",
   "metadata": {},
   "outputs": [
    {
     "data": {
      "text/plain": [
       "<AxesSubplot:xlabel='following'>"
      ]
     },
     "execution_count": 86,
     "metadata": {},
     "output_type": "execute_result"
    },
    {
     "data": {
      "image/png": "[encoded data removed]",
      "text/plain": [
       "<Figure size 432x288 with 1 Axes>"
      ]
     },
     "metadata": {
      "needs_background": "light"
     },
     "output_type": "display_data"
    }
   ],
   "source": [
    "sns.boxplot(x=df_profiles['following'])"
   ]
  },
  {
   "cell_type": "code",
   "execution_count": 87,
   "id": "bb8bcc46",
   "metadata": {},
   "outputs": [
    {
     "data": {
      "text/plain": [
       "<AxesSubplot:xlabel='followers'>"
      ]
     },
     "execution_count": 87,
     "metadata": {},
     "output_type": "execute_result"
    },
    {
     "data": {
      "image/png": "[encoded data removed]",
      "text/plain": [
       "<Figure size 432x288 with 1 Axes>"
      ]
     },
     "metadata": {
      "needs_background": "light"
     },
     "output_type": "display_data"
    }
   ],
   "source": [
    "sns.boxplot(x=df_profiles['followers'])"
   ]
  },
  {
   "cell_type": "code",
   "execution_count": 88,
   "id": "ce18aeb9",
   "metadata": {},
   "outputs": [
    {
     "data": {
      "text/plain": [
       "<AxesSubplot:xlabel='Number of posts'>"
      ]
     },
     "execution_count": 88,
     "metadata": {},
     "output_type": "execute_result"
    },
    {
     "data": {
      "image/png": "[encoded data removed]",
      "text/plain": [
       "<Figure size 432x288 with 1 Axes>"
      ]
     },
     "metadata": {
      "needs_background": "light"
     },
     "output_type": "display_data"
    }
   ],
   "source": [
    "sns.boxplot(x=df_profiles['Number of posts'])"
   ]
  },
  {
   "cell_type": "code",
   "execution_count": 75,
   "id": "8c3f8775",
   "metadata": {},
   "outputs": [
    {
     "name": "stdout",
     "output_type": "stream",
     "text": [
      "following          1492.0\n",
      "followers          2258.0\n",
      "Number of posts     677.0\n",
      "dtype: float64\n"
     ]
    }
   ],
   "source": [
    "Q1 = df_profiles[['following','followers','Number of posts']].quantile(0.25)\n",
    "Q3 = df_profiles[['following','followers','Number of posts']].quantile(0.75)\n",
    "IQR = Q3 - Q1\n",
    "print(IQR)"
   ]
  },
  {
   "cell_type": "code",
   "execution_count": 77,
   "id": "5bcca85e",
   "metadata": {},
   "outputs": [
    {
     "data": {
      "text/html": [
       "<div>\n",
       "<style scoped>\n",
       "    .dataframe tbody tr th:only-of-type {\n",
       "        vertical-align: middle;\n",
       "    }\n",
       "\n",
       "    .dataframe tbody tr th {\n",
       "        vertical-align: top;\n",
       "    }\n",
       "\n",
       "    .dataframe thead th {\n",
       "        text-align: right;\n",
       "    }\n",
       "</style>\n",
       "<table border=\"1\" class=\"dataframe\">\n",
       "  <thead>\n",
       "    <tr style=\"text-align: right;\">\n",
       "      <th></th>\n",
       "      <th>sid</th>\n",
       "      <th>Profile ID</th>\n",
       "      <th>Profile name</th>\n",
       "      <th>Fullname</th>\n",
       "      <th>following</th>\n",
       "      <th>followers</th>\n",
       "      <th>Number of posts</th>\n",
       "      <th>url</th>\n",
       "      <th>cts</th>\n",
       "      <th>Business Account</th>\n",
       "    </tr>\n",
       "  </thead>\n",
       "  <tbody>\n",
       "    <tr>\n",
       "      <th>1</th>\n",
       "      <td>4184457</td>\n",
       "      <td>5.905830e+08</td>\n",
       "      <td>mama_haas</td>\n",
       "      <td>Deanna</td>\n",
       "      <td>534.0</td>\n",
       "      <td>1145.0</td>\n",
       "      <td>2878.0</td>\n",
       "      <td>www.etsy.com/shop/MamaHaas69</td>\n",
       "      <td>2019-08-01 14:39:36.526 -0400</td>\n",
       "      <td>False</td>\n",
       "    </tr>\n",
       "    <tr>\n",
       "      <th>2</th>\n",
       "      <td>4184460</td>\n",
       "      <td>1.074147e+09</td>\n",
       "      <td>yellowlightbreen</td>\n",
       "      <td>Eliza Gray</td>\n",
       "      <td>469.0</td>\n",
       "      <td>324.0</td>\n",
       "      <td>431.0</td>\n",
       "      <td>elizajanegray.com</td>\n",
       "      <td>2019-08-01 14:39:54.407 -0400</td>\n",
       "      <td>False</td>\n",
       "    </tr>\n",
       "    <tr>\n",
       "      <th>6</th>\n",
       "      <td>4184471</td>\n",
       "      <td>2.061868e+09</td>\n",
       "      <td>masslivehs</td>\n",
       "      <td>MassLive High School Sports</td>\n",
       "      <td>157.0</td>\n",
       "      <td>4137.0</td>\n",
       "      <td>753.0</td>\n",
       "      <td>bit.ly/2HIysyv</td>\n",
       "      <td>2019-08-01 14:40:40.390 -0400</td>\n",
       "      <td>True</td>\n",
       "    </tr>\n",
       "    <tr>\n",
       "      <th>13</th>\n",
       "      <td>4184486</td>\n",
       "      <td>3.041392e+08</td>\n",
       "      <td>katepani413</td>\n",
       "      <td>kp!!!! ☆</td>\n",
       "      <td>1543.0</td>\n",
       "      <td>3008.0</td>\n",
       "      <td>115.0</td>\n",
       "      <td>vsco.co/kpani</td>\n",
       "      <td>2019-08-01 14:41:46.967 -0400</td>\n",
       "      <td>True</td>\n",
       "    </tr>\n",
       "    <tr>\n",
       "      <th>50</th>\n",
       "      <td>4184480</td>\n",
       "      <td>9.947274e+09</td>\n",
       "      <td>jk_vastgoed</td>\n",
       "      <td>JK VASTGOED</td>\n",
       "      <td>215.0</td>\n",
       "      <td>182.0</td>\n",
       "      <td>14.0</td>\n",
       "      <td>www.jkvastgoed.be</td>\n",
       "      <td>2019-08-01 14:41:25.930 -0400</td>\n",
       "      <td>True</td>\n",
       "    </tr>\n",
       "  </tbody>\n",
       "</table>\n",
       "</div>"
      ],
      "text/plain": [
       "        sid    Profile ID      Profile name                     Fullname  \\\n",
       "1   4184457  5.905830e+08         mama_haas                       Deanna   \n",
       "2   4184460  1.074147e+09  yellowlightbreen                   Eliza Gray   \n",
       "6   4184471  2.061868e+09        masslivehs  MassLive High School Sports   \n",
       "13  4184486  3.041392e+08       katepani413                     kp!!!! ☆   \n",
       "50  4184480  9.947274e+09       jk_vastgoed                  JK VASTGOED   \n",
       "\n",
       "    following  followers  Number of posts                           url  \\\n",
       "1       534.0     1145.0           2878.0  www.etsy.com/shop/MamaHaas69   \n",
       "2       469.0      324.0            431.0             elizajanegray.com   \n",
       "6       157.0     4137.0            753.0                bit.ly/2HIysyv   \n",
       "13     1543.0     3008.0            115.0                 vsco.co/kpani   \n",
       "50      215.0      182.0             14.0             www.jkvastgoed.be   \n",
       "\n",
       "                              cts Business Account  \n",
       "1   2019-08-01 14:39:36.526 -0400            False  \n",
       "2   2019-08-01 14:39:54.407 -0400            False  \n",
       "6   2019-08-01 14:40:40.390 -0400             True  \n",
       "13  2019-08-01 14:41:46.967 -0400             True  \n",
       "50  2019-08-01 14:41:25.930 -0400             True  "
      ]
     },
     "execution_count": 77,
     "metadata": {},
     "output_type": "execute_result"
    }
   ],
   "source": [
    "df_profiles.head()"
   ]
  },
  {
   "cell_type": "code",
   "execution_count": 82,
   "id": "9a8c1259",
   "metadata": {},
   "outputs": [
    {
     "data": {
      "text/html": [
       "<div>\n",
       "<style scoped>\n",
       "    .dataframe tbody tr th:only-of-type {\n",
       "        vertical-align: middle;\n",
       "    }\n",
       "\n",
       "    .dataframe tbody tr th {\n",
       "        vertical-align: top;\n",
       "    }\n",
       "\n",
       "    .dataframe thead th {\n",
       "        text-align: right;\n",
       "    }\n",
       "</style>\n",
       "<table border=\"1\" class=\"dataframe\">\n",
       "  <thead>\n",
       "    <tr style=\"text-align: right;\">\n",
       "      <th></th>\n",
       "      <th>following</th>\n",
       "      <th>followers</th>\n",
       "      <th>Number of posts</th>\n",
       "    </tr>\n",
       "  </thead>\n",
       "  <tbody>\n",
       "    <tr>\n",
       "      <th>following</th>\n",
       "      <td>1.00000</td>\n",
       "      <td>0.006910</td>\n",
       "      <td>0.020380</td>\n",
       "    </tr>\n",
       "    <tr>\n",
       "      <th>followers</th>\n",
       "      <td>0.00691</td>\n",
       "      <td>1.000000</td>\n",
       "      <td>0.061448</td>\n",
       "    </tr>\n",
       "    <tr>\n",
       "      <th>Number of posts</th>\n",
       "      <td>0.02038</td>\n",
       "      <td>0.061448</td>\n",
       "      <td>1.000000</td>\n",
       "    </tr>\n",
       "  </tbody>\n",
       "</table>\n",
       "</div>"
      ],
      "text/plain": [
       "                 following  followers  Number of posts\n",
       "following          1.00000   0.006910         0.020380\n",
       "followers          0.00691   1.000000         0.061448\n",
       "Number of posts    0.02038   0.061448         1.000000"
      ]
     },
     "execution_count": 82,
     "metadata": {},
     "output_type": "execute_result"
    },
    {
     "data": {
      "image/png": "[encoded data removed]",
      "text/plain": [
       "<Figure size 720x360 with 2 Axes>"
      ]
     },
     "metadata": {
      "needs_background": "light"
     },
     "output_type": "display_data"
    }
   ],
   "source": [
    "plt.figure(figsize=(10,5))\n",
    "c= df_profiles[['following','followers','Number of posts']].corr()\n",
    "sns.heatmap(c,cmap=\"BrBG\",annot=True)\n",
    "c"
   ]
  },
  {
   "cell_type": "code",
   "execution_count": 84,
   "id": "3121a4e9",
   "metadata": {},
   "outputs": [
    {
     "name": "stderr",
     "output_type": "stream",
     "text": [
      "/var/folders/5b/bml_986d6rn1rxlht9v8rb4w0000gn/T/ipykernel_24667/3928458092.py:2: FutureWarning: Automatic reindexing on DataFrame vs Series comparisons is deprecated and will raise ValueError in a future version. Do `left, right = left.align(right, axis=1, copy=False)` before e.g. `left == right`\n",
      "  df_scatter = df_profiles[~((df_profiles < (Q1 - 1.5 * IQR)) |(df_profiles > (Q3 + 1.5 * IQR))).any(axis=1)]\n"
     ]
    },
    {
     "data": {
      "image/png": "[encoded data removed]",
      "text/plain": [
       "<Figure size 720x432 with 1 Axes>"
      ]
     },
     "metadata": {
      "needs_background": "light"
     },
     "output_type": "display_data"
    }
   ],
   "source": [
    "'''\n",
    "#Adjusted the data for the scatter plot by removing outliers\n",
    "df_scatter = df_profiles[~((df_profiles < (Q1 - 1.5 * IQR)) |(df_profiles > (Q3 + 1.5 * IQR))).any(axis=1)]\n",
    "\n",
    "\n",
    "fig, ax = plt.subplots(figsize=(10,6))\n",
    "ax.scatter(df_scatter['followers'], df_scatter['following'])\n",
    "ax.set_xlabel('followers')\n",
    "ax.set_ylabel('following')\n",
    "plt.show()\n",
    "'''"
   ]
  },
  {
   "cell_type": "markdown",
   "id": "2bb220e5",
   "metadata": {},
   "source": [
    "Question 6"
   ]
  },
  {
   "cell_type": "code",
   "execution_count": 2,
   "id": "14bae3ee",
   "metadata": {},
   "outputs": [],
   "source": [
    "df = functions.time_intervals_df('Data/instagram_posts.csv','Data/instagram_profiles.csv',['sid_profile','cts','profile_id'])"
   ]
  },
  {
   "cell_type": "code",
   "execution_count": 95,
   "id": "3722c74a",
   "metadata": {},
   "outputs": [
    {
     "data": {
      "text/plain": [
       "<AxesSubplot:xlabel='avg_time_diff'>"
      ]
     },
     "execution_count": 95,
     "metadata": {},
     "output_type": "execute_result"
    },
    {
     "data": {
      "image/png": "[encoded data removed]",
      "text/plain": [
       "<Figure size 432x288 with 1 Axes>"
      ]
     },
     "metadata": {
      "needs_background": "light"
     },
     "output_type": "display_data"
    }
   ],
   "source": [
    "td_secs = df[['avg_time_diff']]/ np.timedelta64(1, 's')\n",
    "td_secs.sort_values('avg_time_diff')\n",
    "sns.boxplot(x=td_secs['avg_time_diff'],showfliers=False)"
   ]
  },
  {
   "cell_type": "code",
   "execution_count": 96,
   "id": "f8939575",
   "metadata": {},
   "outputs": [],
   "source": [
    "td_secs = td_secs[td_secs.avg_time_diff>0]"
   ]
  },
  {
   "cell_type": "code",
   "execution_count": 99,
   "id": "146ddd25",
   "metadata": {},
   "outputs": [
    {
     "data": {
      "text/html": [
       "<div>\n",
       "<style scoped>\n",
       "    .dataframe tbody tr th:only-of-type {\n",
       "        vertical-align: middle;\n",
       "    }\n",
       "\n",
       "    .dataframe tbody tr th {\n",
       "        vertical-align: top;\n",
       "    }\n",
       "\n",
       "    .dataframe thead th {\n",
       "        text-align: right;\n",
       "    }\n",
       "</style>\n",
       "<table border=\"1\" class=\"dataframe\">\n",
       "  <thead>\n",
       "    <tr style=\"text-align: right;\">\n",
       "      <th></th>\n",
       "      <th>avg_time_diff</th>\n",
       "    </tr>\n",
       "  </thead>\n",
       "  <tbody>\n",
       "    <tr>\n",
       "      <th>577472</th>\n",
       "      <td>NaN</td>\n",
       "    </tr>\n",
       "    <tr>\n",
       "      <th>1167642</th>\n",
       "      <td>NaN</td>\n",
       "    </tr>\n",
       "    <tr>\n",
       "      <th>410962</th>\n",
       "      <td>NaN</td>\n",
       "    </tr>\n",
       "    <tr>\n",
       "      <th>905148</th>\n",
       "      <td>NaN</td>\n",
       "    </tr>\n",
       "    <tr>\n",
       "      <th>973775</th>\n",
       "      <td>NaN</td>\n",
       "    </tr>\n",
       "    <tr>\n",
       "      <th>...</th>\n",
       "      <td>...</td>\n",
       "    </tr>\n",
       "    <tr>\n",
       "      <th>1907753</th>\n",
       "      <td>2.952357</td>\n",
       "    </tr>\n",
       "    <tr>\n",
       "      <th>318761</th>\n",
       "      <td>2.954510</td>\n",
       "    </tr>\n",
       "    <tr>\n",
       "      <th>212324</th>\n",
       "      <td>2.954927</td>\n",
       "    </tr>\n",
       "    <tr>\n",
       "      <th>1006287</th>\n",
       "      <td>2.956114</td>\n",
       "    </tr>\n",
       "    <tr>\n",
       "      <th>1789075</th>\n",
       "      <td>2.961970</td>\n",
       "    </tr>\n",
       "  </tbody>\n",
       "</table>\n",
       "<p>1960159 rows × 1 columns</p>\n",
       "</div>"
      ],
      "text/plain": [
       "         avg_time_diff\n",
       "577472             NaN\n",
       "1167642            NaN\n",
       "410962             NaN\n",
       "905148             NaN\n",
       "973775             NaN\n",
       "...                ...\n",
       "1907753       2.952357\n",
       "318761        2.954510\n",
       "212324        2.954927\n",
       "1006287       2.956114\n",
       "1789075       2.961970\n",
       "\n",
       "[1960159 rows x 1 columns]"
      ]
     },
     "execution_count": 99,
     "metadata": {},
     "output_type": "execute_result"
    }
   ],
   "source": [
    "td_secs = td_secs.sort_values('avg_time_diff')\n",
    "\n",
    "td_secs = td_secs.apply(np.log)\n",
    "td_secs\n"
   ]
  },
  {
   "cell_type": "code",
   "execution_count": 98,
   "id": "8858626e",
   "metadata": {},
   "outputs": [
    {
     "data": {
      "image/png": "[encoded data removed]",
      "text/plain": [
       "<Figure size 720x360 with 1 Axes>"
      ]
     },
     "metadata": {
      "needs_background": "light"
     },
     "output_type": "display_data"
    }
   ],
   "source": [
    "figure , axes = plt.subplots(figsize = (10,5))\n",
    "sns.histplot (td_secs,bins=50)\n",
    "plt.show()\n"
   ]
  },
  {
   "cell_type": "code",
   "execution_count": 66,
   "id": "fdf19d1f",
   "metadata": {},
   "outputs": [
    {
     "data": {
      "text/plain": [
       "sid                          int32\n",
       "profile_id                 float64\n",
       "following                  float64\n",
       "followers                  float64\n",
       "avg_time_diff      timedelta64[ns]\n",
       "number_of_posts              int64\n",
       "dtype: object"
      ]
     },
     "execution_count": 66,
     "metadata": {},
     "output_type": "execute_result"
    }
   ],
   "source": [
    "df_sorted_by_count = df.sort_values('number_of_posts')\n",
    "df_sorted_by_count.dtypes"
   ]
  },
  {
   "cell_type": "code",
   "execution_count": 62,
   "id": "a3b8d089",
   "metadata": {},
   "outputs": [
    {
     "data": {
      "text/html": [
       "<div>\n",
       "<style scoped>\n",
       "    .dataframe tbody tr th:only-of-type {\n",
       "        vertical-align: middle;\n",
       "    }\n",
       "\n",
       "    .dataframe tbody tr th {\n",
       "        vertical-align: top;\n",
       "    }\n",
       "\n",
       "    .dataframe thead th {\n",
       "        text-align: right;\n",
       "    }\n",
       "</style>\n",
       "<table border=\"1\" class=\"dataframe\">\n",
       "  <thead>\n",
       "    <tr style=\"text-align: right;\">\n",
       "      <th></th>\n",
       "      <th>sid</th>\n",
       "      <th>profile_id</th>\n",
       "      <th>following</th>\n",
       "      <th>followers</th>\n",
       "      <th>avg_time_diff</th>\n",
       "      <th>number_of_posts</th>\n",
       "    </tr>\n",
       "  </thead>\n",
       "  <tbody>\n",
       "    <tr>\n",
       "      <th>1713963</th>\n",
       "      <td>3634358</td>\n",
       "      <td>1.380267e+10</td>\n",
       "      <td>10.0</td>\n",
       "      <td>47.0</td>\n",
       "      <td>0 days 00:00:14.058823529</td>\n",
       "      <td>18</td>\n",
       "    </tr>\n",
       "    <tr>\n",
       "      <th>1543354</th>\n",
       "      <td>2642398</td>\n",
       "      <td>6.923714e+09</td>\n",
       "      <td>1494.0</td>\n",
       "      <td>631.0</td>\n",
       "      <td>0 days 00:00:14.352941176</td>\n",
       "      <td>18</td>\n",
       "    </tr>\n",
       "    <tr>\n",
       "      <th>463</th>\n",
       "      <td>4185216</td>\n",
       "      <td>2.004862e+09</td>\n",
       "      <td>232.0</td>\n",
       "      <td>1063.0</td>\n",
       "      <td>0 days 00:00:14.705882352</td>\n",
       "      <td>18</td>\n",
       "    </tr>\n",
       "    <tr>\n",
       "      <th>1632993</th>\n",
       "      <td>2456295</td>\n",
       "      <td>7.212411e+09</td>\n",
       "      <td>4759.0</td>\n",
       "      <td>525.0</td>\n",
       "      <td>0 days 00:00:34.166666666</td>\n",
       "      <td>19</td>\n",
       "    </tr>\n",
       "    <tr>\n",
       "      <th>1681187</th>\n",
       "      <td>3591179</td>\n",
       "      <td>5.717777e+09</td>\n",
       "      <td>89.0</td>\n",
       "      <td>143.0</td>\n",
       "      <td>0 days 00:00:35.850000</td>\n",
       "      <td>21</td>\n",
       "    </tr>\n",
       "    <tr>\n",
       "      <th>...</th>\n",
       "      <td>...</td>\n",
       "      <td>...</td>\n",
       "      <td>...</td>\n",
       "      <td>...</td>\n",
       "      <td>...</td>\n",
       "      <td>...</td>\n",
       "    </tr>\n",
       "    <tr>\n",
       "      <th>1813896</th>\n",
       "      <td>3790459</td>\n",
       "      <td>3.840390e+05</td>\n",
       "      <td>1945.0</td>\n",
       "      <td>11085.0</td>\n",
       "      <td>191 days 07:47:40.266666666</td>\n",
       "      <td>16</td>\n",
       "    </tr>\n",
       "    <tr>\n",
       "      <th>1009337</th>\n",
       "      <td>3311217</td>\n",
       "      <td>3.413958e+06</td>\n",
       "      <td>920.0</td>\n",
       "      <td>6940.0</td>\n",
       "      <td>191 days 20:22:56.800000</td>\n",
       "      <td>16</td>\n",
       "    </tr>\n",
       "    <tr>\n",
       "      <th>587773</th>\n",
       "      <td>3425123</td>\n",
       "      <td>3.908510e+05</td>\n",
       "      <td>802.0</td>\n",
       "      <td>320085.0</td>\n",
       "      <td>194 days 13:13:44.500000</td>\n",
       "      <td>17</td>\n",
       "    </tr>\n",
       "    <tr>\n",
       "      <th>177237</th>\n",
       "      <td>4467537</td>\n",
       "      <td>2.373680e+05</td>\n",
       "      <td>439.0</td>\n",
       "      <td>2360.0</td>\n",
       "      <td>196 days 20:03:32.062500</td>\n",
       "      <td>17</td>\n",
       "    </tr>\n",
       "    <tr>\n",
       "      <th>394702</th>\n",
       "      <td>904184</td>\n",
       "      <td>2.789640e+05</td>\n",
       "      <td>2326.0</td>\n",
       "      <td>1093.0</td>\n",
       "      <td>204 days 08:52:13.133333334</td>\n",
       "      <td>16</td>\n",
       "    </tr>\n",
       "  </tbody>\n",
       "</table>\n",
       "<p>165080 rows × 6 columns</p>\n",
       "</div>"
      ],
      "text/plain": [
       "             sid    profile_id  following  followers  \\\n",
       "1713963  3634358  1.380267e+10       10.0       47.0   \n",
       "1543354  2642398  6.923714e+09     1494.0      631.0   \n",
       "463      4185216  2.004862e+09      232.0     1063.0   \n",
       "1632993  2456295  7.212411e+09     4759.0      525.0   \n",
       "1681187  3591179  5.717777e+09       89.0      143.0   \n",
       "...          ...           ...        ...        ...   \n",
       "1813896  3790459  3.840390e+05     1945.0    11085.0   \n",
       "1009337  3311217  3.413958e+06      920.0     6940.0   \n",
       "587773   3425123  3.908510e+05      802.0   320085.0   \n",
       "177237   4467537  2.373680e+05      439.0     2360.0   \n",
       "394702    904184  2.789640e+05     2326.0     1093.0   \n",
       "\n",
       "                      avg_time_diff  number_of_posts  \n",
       "1713963   0 days 00:00:14.058823529               18  \n",
       "1543354   0 days 00:00:14.352941176               18  \n",
       "463       0 days 00:00:14.705882352               18  \n",
       "1632993   0 days 00:00:34.166666666               19  \n",
       "1681187      0 days 00:00:35.850000               21  \n",
       "...                             ...              ...  \n",
       "1813896 191 days 07:47:40.266666666               16  \n",
       "1009337    191 days 20:22:56.800000               16  \n",
       "587773     194 days 13:13:44.500000               17  \n",
       "177237     196 days 20:03:32.062500               17  \n",
       "394702  204 days 08:52:13.133333334               16  \n",
       "\n",
       "[165080 rows x 6 columns]"
      ]
     },
     "execution_count": 62,
     "metadata": {},
     "output_type": "execute_result"
    }
   ],
   "source": [
    "df_sorted_by_avg = df[df.number_of_posts>15].sort_values('avg_time_diff')\n",
    "df_sorted_by_avg"
   ]
  },
  {
   "cell_type": "code",
   "execution_count": 7,
   "id": "ec3317dd",
   "metadata": {},
   "outputs": [],
   "source": [
    "avgTime = df['avg_time_diff'].mean()"
   ]
  },
  {
   "cell_type": "code",
   "execution_count": 8,
   "id": "f1c3b2d2",
   "metadata": {},
   "outputs": [],
   "source": [
    "days=df['avg_time_diff'].mean().days"
   ]
  },
  {
   "cell_type": "code",
   "execution_count": 9,
   "id": "83475561",
   "metadata": {},
   "outputs": [],
   "source": [
    "mins = avgTime - datetime.timedelta(days=days)"
   ]
  },
  {
   "cell_type": "code",
   "execution_count": 10,
   "id": "02e2ff18",
   "metadata": {},
   "outputs": [],
   "source": [
    "seconds = datetime.timedelta.total_seconds(mins)"
   ]
  },
  {
   "cell_type": "code",
   "execution_count": 11,
   "id": "58dabf61",
   "metadata": {},
   "outputs": [],
   "source": [
    "totalMinutes = seconds/60"
   ]
  },
  {
   "cell_type": "code",
   "execution_count": 12,
   "id": "4dd9d991",
   "metadata": {},
   "outputs": [],
   "source": [
    "td = 'Days: '+ str(days) + ' and Minutes: '+ str (round(totalMinutes,2))"
   ]
  },
  {
   "cell_type": "code",
   "execution_count": 13,
   "id": "b50899e4",
   "metadata": {},
   "outputs": [
    {
     "data": {
      "text/plain": [
       "'Days: 24 and Minutes: 332.03'"
      ]
     },
     "execution_count": 13,
     "metadata": {},
     "output_type": "execute_result"
    }
   ],
   "source": [
    "td"
   ]
  },
  {
   "cell_type": "code",
   "execution_count": 53,
   "id": "76218758",
   "metadata": {},
   "outputs": [],
   "source": [
    "df_sorted_by_count = df_sorted_by_count.reset_index()\n",
    "topThree = df_sorted_by_count[['followers','following','number_of_posts','profile_id']].tail(3)\n",
    "topThree=topThree.set_index('profile_id')"
   ]
  },
  {
   "cell_type": "code",
   "execution_count": 59,
   "id": "095341b6",
   "metadata": {},
   "outputs": [
    {
     "data": {
      "text/plain": [
       "Text(0, 0.5, 'count')"
      ]
     },
     "execution_count": 59,
     "metadata": {},
     "output_type": "execute_result"
    },
    {
     "data": {
      "image/png": "[encoded data removed]",
      "text/plain": [
       "<Figure size 720x432 with 1 Axes>"
      ]
     },
     "metadata": {
      "needs_background": "light"
     },
     "output_type": "display_data"
    }
   ],
   "source": [
    "topThree.plot(kind=\"bar\",figsize=(10,6))\n",
    "plt.title(\"Users with largest number of posts\")\n",
    "plt.xlabel(\"Profile ID\")\n",
    "plt.ylabel(\"count\")"
   ]
  },
  {
   "cell_type": "code",
   "execution_count": 3,
   "id": "d129cafa",
   "metadata": {},
   "outputs": [
    {
     "name": "stdout",
     "output_type": "stream",
     "text": [
      "How many time intervals?\n",
      "7\n",
      "06:00:00\n",
      "10:59:59\n",
      "11:00:00\n",
      "13:59:59\n",
      "14:00:00\n",
      "16:59:59\n",
      "17:00:00\n",
      "19:59:59\n",
      "20:00:00\n",
      "23:59:59\n",
      "00:00:00\n",
      "02:59:59\n",
      "03:00:00\n",
      "05:59:59\n"
     ]
    },
    {
     "data": {
      "image/png": "[encoded data removed]",
      "text/plain": [
       "<Figure size 1080x504 with 1 Axes>"
      ]
     },
     "metadata": {
      "needs_background": "light"
     },
     "output_type": "display_data"
    },
    {
     "data": {
      "text/plain": [
       "(None,\n",
       " [[datetime.time(6, 0), datetime.time(10, 59, 59)],\n",
       "  [datetime.time(11, 0), datetime.time(13, 59, 59)],\n",
       "  [datetime.time(14, 0), datetime.time(16, 59, 59)],\n",
       "  [datetime.time(17, 0), datetime.time(19, 59, 59)],\n",
       "  [datetime.time(20, 0), datetime.time(23, 59, 59)],\n",
       "  [datetime.time(0, 0), datetime.time(2, 59, 59)],\n",
       "  [datetime.time(3, 0), datetime.time(5, 59, 59)]])"
      ]
     },
     "execution_count": 3,
     "metadata": {},
     "output_type": "execute_result"
    }
   ],
   "source": [
    "functions.intervals('Data/instagram_posts.csv')"
   ]
  },
  {
   "cell_type": "markdown",
   "id": "f13d3491",
   "metadata": {},
   "source": [
    "Question 6 part 2"
   ]
  },
  {
   "cell_type": "code",
   "execution_count": 2,
   "id": "b878037e",
   "metadata": {},
   "outputs": [
    {
     "name": "stdout",
     "output_type": "stream",
     "text": [
      "How many time intervals?\n",
      "7\n",
      "06:00:00\n",
      "10:59:59\n",
      "11:00:00\n",
      "13:59:59\n",
      "14:00:00\n",
      "16:59:59\n",
      "17:00:00\n",
      "19:59:59\n",
      "20:00:00\n",
      "23:59:59\n",
      "00:00:00\n",
      "02:59:59\n",
      "03:00:00\n",
      "05:59:59\n"
     ]
    },
    {
     "data": {
      "image/png": "[encoded data removed]",
      "text/plain": [
       "<Figure size 1080x504 with 1 Axes>"
      ]
     },
     "metadata": {
      "needs_background": "light"
     },
     "output_type": "display_data"
    }
   ],
   "source": [
    "functions.intervals_1('Data/instagram_posts.csv','numbr_likes','Number of Likes',\"Number of Likes for time interval\")"
   ]
  },
  {
   "cell_type": "code",
   "execution_count": 4,
   "id": "221bd9d8",
   "metadata": {},
   "outputs": [
    {
     "name": "stdout",
     "output_type": "stream",
     "text": [
      "How many time intervals?\n",
      "7\n",
      "06:00:00\n",
      "10:59:59\n",
      "11:00:00\n",
      "13:59:59\n",
      "14:00:00\n",
      "16:59:59\n",
      "17:00:00\n",
      "19:59:59\n",
      "20:00:00\n",
      "23:59:59\n",
      "00:00:00\n",
      "02:59:59\n",
      "03:00:00\n",
      "05:59:59\n"
     ]
    },
    {
     "data": {
      "image/png": "[encoded data removed]",
      "text/plain": [
       "<Figure size 1080x504 with 1 Axes>"
      ]
     },
     "metadata": {
      "needs_background": "light"
     },
     "output_type": "display_data"
    }
   ],
   "source": [
    "functions.intervals_1('Data/instagram_posts.csv','number_comments','Number of Comments',\"Number of Comments for time interval\")"
   ]
  },
  {
   "cell_type": "markdown",
   "id": "4042595a",
   "metadata": {},
   "source": [
    "Question 7 part 1"
   ]
  },
  {
   "cell_type": "code",
   "execution_count": 2,
   "id": "1ec33dd5",
   "metadata": {},
   "outputs": [],
   "source": [
    "#Getting the dataframe ready\n",
    "df_merge = functions.posts('Data/instagram_posts.csv','Data/instagram_profiles.csv',['numbr_likes','profile_id','sid_profile'],['sid','profile_id','followers'])"
   ]
  },
  {
   "cell_type": "code",
   "execution_count": 16,
   "id": "3c57aabc",
   "metadata": {},
   "outputs": [],
   "source": [
    "#Getting the posts where the number of likes exceeds 20% of the user's number of followers\n",
    "df_prob = df_merge[df_merge.numbr_likes > (df_merge.followers)*0.2]"
   ]
  },
  {
   "cell_type": "code",
   "execution_count": 17,
   "id": "f3d4c00e",
   "metadata": {},
   "outputs": [],
   "source": [
    "#calculating the probability by dividing the occurences of the likes condition by the total number of posts\n",
    "prob = len(df_prob.index)/len(df_merge.index)"
   ]
  },
  {
   "cell_type": "code",
   "execution_count": 18,
   "id": "ab97f548",
   "metadata": {},
   "outputs": [
    {
     "data": {
      "text/plain": [
       "0.15734185243494658"
      ]
     },
     "execution_count": 18,
     "metadata": {},
     "output_type": "execute_result"
    }
   ],
   "source": [
    "prob"
   ]
  },
  {
   "cell_type": "markdown",
   "id": "e7c51f56",
   "metadata": {},
   "source": [
    "Question 7 part 2"
   ]
  },
  {
   "cell_type": "code",
   "execution_count": 22,
   "id": "e503028d",
   "metadata": {},
   "outputs": [],
   "source": [
    "#Creating the dataframe for the posts with locations\n",
    "df_merge = functions.posts_df('Data/instagram_posts.csv','Data/instagram_profiles.csv',['profile_id','sid_profile','location_id'],['sid'])"
   ]
  },
  {
   "cell_type": "code",
   "execution_count": 23,
   "id": "8842ab1b",
   "metadata": {},
   "outputs": [],
   "source": [
    "#Creating the dataframe for the locations\n",
    "df_locations = pd.read_csv('Data/instagram_locations.csv',sep='\\t', usecols = ['name','id'])"
   ]
  },
  {
   "cell_type": "code",
   "execution_count": 24,
   "id": "4171fc0e",
   "metadata": {},
   "outputs": [],
   "source": [
    "#cleaning the locations dataframe\n",
    "df_locations = df_locations.dropna()"
   ]
  },
  {
   "cell_type": "code",
   "execution_count": 25,
   "id": "cb145da9",
   "metadata": {},
   "outputs": [],
   "source": [
    "#merging both datasets to remove any posts with invalid locations\n",
    "df_merge_locations = pd.merge(df_merge,df_locations,left_on = 'location_id', right_on = 'id')\n"
   ]
  },
  {
   "cell_type": "code",
   "execution_count": 27,
   "id": "1890367d",
   "metadata": {},
   "outputs": [
    {
     "data": {
      "text/html": [
       "<div>\n",
       "<style scoped>\n",
       "    .dataframe tbody tr th:only-of-type {\n",
       "        vertical-align: middle;\n",
       "    }\n",
       "\n",
       "    .dataframe tbody tr th {\n",
       "        vertical-align: top;\n",
       "    }\n",
       "\n",
       "    .dataframe thead th {\n",
       "        text-align: right;\n",
       "    }\n",
       "</style>\n",
       "<table border=\"1\" class=\"dataframe\">\n",
       "  <thead>\n",
       "    <tr style=\"text-align: right;\">\n",
       "      <th></th>\n",
       "      <th>name</th>\n",
       "      <th>profile_id</th>\n",
       "      <th>visits</th>\n",
       "    </tr>\n",
       "  </thead>\n",
       "  <tbody>\n",
       "    <tr>\n",
       "      <th>0</th>\n",
       "      <td>\u0001Elementary\u0003Tejon Elementary</td>\n",
       "      <td>2.388571e+09</td>\n",
       "      <td>1</td>\n",
       "    </tr>\n",
       "    <tr>\n",
       "      <th>1</th>\n",
       "      <td>\u0001High School\u0003560 City As School</td>\n",
       "      <td>2.273864e+08</td>\n",
       "      <td>1</td>\n",
       "    </tr>\n",
       "    <tr>\n",
       "      <th>2</th>\n",
       "      <td>\u0001High School\u0003560 City As School</td>\n",
       "      <td>2.274402e+08</td>\n",
       "      <td>1</td>\n",
       "    </tr>\n",
       "    <tr>\n",
       "      <th>3</th>\n",
       "      <td>\u0001High School\u0003560 City As School</td>\n",
       "      <td>3.820541e+08</td>\n",
       "      <td>1</td>\n",
       "    </tr>\n",
       "    <tr>\n",
       "      <th>4</th>\n",
       "      <td>\u0001High School\u0003560 City As School</td>\n",
       "      <td>4.307581e+09</td>\n",
       "      <td>1</td>\n",
       "    </tr>\n",
       "    <tr>\n",
       "      <th>...</th>\n",
       "      <td>...</td>\n",
       "      <td>...</td>\n",
       "      <td>...</td>\n",
       "    </tr>\n",
       "    <tr>\n",
       "      <th>7817752</th>\n",
       "      <td>𝙲𝙰𝚂𝙰 𝙱𝙻𝙰𝙽𝙲𝙰</td>\n",
       "      <td>6.021365e+08</td>\n",
       "      <td>1</td>\n",
       "    </tr>\n",
       "    <tr>\n",
       "      <th>7817753</th>\n",
       "      <td>𝙲𝙰𝚂𝙰 𝙱𝙻𝙰𝙽𝙲𝙰</td>\n",
       "      <td>1.088733e+09</td>\n",
       "      <td>2</td>\n",
       "    </tr>\n",
       "    <tr>\n",
       "      <th>7817754</th>\n",
       "      <td>𝙲𝙰𝚂𝙰 𝙱𝙻𝙰𝙽𝙲𝙰</td>\n",
       "      <td>7.440289e+09</td>\n",
       "      <td>1</td>\n",
       "    </tr>\n",
       "    <tr>\n",
       "      <th>7817755</th>\n",
       "      <td>𝟙𝟡.𝟙𝟡</td>\n",
       "      <td>4.222007e+09</td>\n",
       "      <td>8</td>\n",
       "    </tr>\n",
       "    <tr>\n",
       "      <th>7817756</th>\n",
       "      <td>𝟙𝟡.𝟙𝟡</td>\n",
       "      <td>1.287812e+10</td>\n",
       "      <td>1</td>\n",
       "    </tr>\n",
       "  </tbody>\n",
       "</table>\n",
       "<p>7817757 rows × 3 columns</p>\n",
       "</div>"
      ],
      "text/plain": [
       "                                    name    profile_id  visits\n",
       "0           \u0001Elementary\u0003Tejon Elementary  2.388571e+09       1\n",
       "1        \u0001High School\u0003560 City As School  2.273864e+08       1\n",
       "2        \u0001High School\u0003560 City As School  2.274402e+08       1\n",
       "3        \u0001High School\u0003560 City As School  3.820541e+08       1\n",
       "4        \u0001High School\u0003560 City As School  4.307581e+09       1\n",
       "...                                  ...           ...     ...\n",
       "7817752                      𝙲𝙰𝚂𝙰 𝙱𝙻𝙰𝙽𝙲𝙰  6.021365e+08       1\n",
       "7817753                      𝙲𝙰𝚂𝙰 𝙱𝙻𝙰𝙽𝙲𝙰  1.088733e+09       2\n",
       "7817754                      𝙲𝙰𝚂𝙰 𝙱𝙻𝙰𝙽𝙲𝙰  7.440289e+09       1\n",
       "7817755                            𝟙𝟡.𝟙𝟡  4.222007e+09       8\n",
       "7817756                            𝟙𝟡.𝟙𝟡  1.287812e+10       1\n",
       "\n",
       "[7817757 rows x 3 columns]"
      ]
     },
     "execution_count": 27,
     "metadata": {},
     "output_type": "execute_result"
    }
   ],
   "source": [
    "#Getting the number of times a user posted from a locations\n",
    "df_gb = df_merge_locations.groupby( [ \"name\", \"profile_id\"] ).size().to_frame(name = 'visits').reset_index()\n",
    "df_gb"
   ]
  },
  {
   "cell_type": "code",
   "execution_count": 11,
   "id": "470459a8",
   "metadata": {},
   "outputs": [],
   "source": [
    "#calculating the probability by dividing the places that were posted from by a user with all the posts\n",
    "prob = len(df_gb[df_gb.visits>1].index)/len(df_gb.index)"
   ]
  },
  {
   "cell_type": "code",
   "execution_count": 12,
   "id": "b609774c",
   "metadata": {},
   "outputs": [
    {
     "data": {
      "text/plain": [
       "0.1935391442839679"
      ]
     },
     "execution_count": 12,
     "metadata": {},
     "output_type": "execute_result"
    }
   ],
   "source": [
    "prob"
   ]
  },
  {
   "cell_type": "code",
   "execution_count": 6,
   "id": "62c59746",
   "metadata": {},
   "outputs": [],
   "source": [
    "dt_posts = dt.fread('Data/instagram_posts.csv')\n",
    "df_posts = dt_posts[:,['cts','numbr_likes','number_comments']].to_pandas()\n",
    "df_posts = df_posts.dropna()"
   ]
  },
  {
   "cell_type": "code",
   "execution_count": 7,
   "id": "0518009c",
   "metadata": {},
   "outputs": [
    {
     "data": {
      "text/html": [
       "<div>\n",
       "<style scoped>\n",
       "    .dataframe tbody tr th:only-of-type {\n",
       "        vertical-align: middle;\n",
       "    }\n",
       "\n",
       "    .dataframe tbody tr th {\n",
       "        vertical-align: top;\n",
       "    }\n",
       "\n",
       "    .dataframe thead th {\n",
       "        text-align: right;\n",
       "    }\n",
       "</style>\n",
       "<table border=\"1\" class=\"dataframe\">\n",
       "  <thead>\n",
       "    <tr style=\"text-align: right;\">\n",
       "      <th></th>\n",
       "      <th>cts</th>\n",
       "      <th>numbr_likes</th>\n",
       "      <th>number_comments</th>\n",
       "    </tr>\n",
       "  </thead>\n",
       "  <tbody>\n",
       "    <tr>\n",
       "      <th>0</th>\n",
       "      <td>2017-08-06 20:06:57</td>\n",
       "      <td>80.0</td>\n",
       "      <td>0.0</td>\n",
       "    </tr>\n",
       "    <tr>\n",
       "      <th>1</th>\n",
       "      <td>2017-06-19 09:31:16</td>\n",
       "      <td>25.0</td>\n",
       "      <td>1.0</td>\n",
       "    </tr>\n",
       "    <tr>\n",
       "      <th>2</th>\n",
       "      <td>2017-03-11 20:05:03</td>\n",
       "      <td>9.0</td>\n",
       "      <td>0.0</td>\n",
       "    </tr>\n",
       "    <tr>\n",
       "      <th>3</th>\n",
       "      <td>2016-09-13 16:27:16</td>\n",
       "      <td>4.0</td>\n",
       "      <td>0.0</td>\n",
       "    </tr>\n",
       "    <tr>\n",
       "      <th>4</th>\n",
       "      <td>2015-10-18 10:19:27</td>\n",
       "      <td>8.0</td>\n",
       "      <td>0.0</td>\n",
       "    </tr>\n",
       "    <tr>\n",
       "      <th>...</th>\n",
       "      <td>...</td>\n",
       "      <td>...</td>\n",
       "      <td>...</td>\n",
       "    </tr>\n",
       "    <tr>\n",
       "      <th>42710192</th>\n",
       "      <td>2017-12-13 15:38:04</td>\n",
       "      <td>74.0</td>\n",
       "      <td>0.0</td>\n",
       "    </tr>\n",
       "    <tr>\n",
       "      <th>42710193</th>\n",
       "      <td>2017-10-31 11:28:01</td>\n",
       "      <td>49.0</td>\n",
       "      <td>0.0</td>\n",
       "    </tr>\n",
       "    <tr>\n",
       "      <th>42710194</th>\n",
       "      <td>2017-01-13 20:16:37</td>\n",
       "      <td>18.0</td>\n",
       "      <td>0.0</td>\n",
       "    </tr>\n",
       "    <tr>\n",
       "      <th>42710195</th>\n",
       "      <td>2019-05-20 20:07:52</td>\n",
       "      <td>27.0</td>\n",
       "      <td>1.0</td>\n",
       "    </tr>\n",
       "    <tr>\n",
       "      <th>42710196</th>\n",
       "      <td>2018-03-12 02:57:17</td>\n",
       "      <td>1824.0</td>\n",
       "      <td>49.0</td>\n",
       "    </tr>\n",
       "  </tbody>\n",
       "</table>\n",
       "<p>42706865 rows × 3 columns</p>\n",
       "</div>"
      ],
      "text/plain": [
       "                         cts  numbr_likes  number_comments\n",
       "0        2017-08-06 20:06:57         80.0              0.0\n",
       "1        2017-06-19 09:31:16         25.0              1.0\n",
       "2        2017-03-11 20:05:03          9.0              0.0\n",
       "3        2016-09-13 16:27:16          4.0              0.0\n",
       "4        2015-10-18 10:19:27          8.0              0.0\n",
       "...                      ...          ...              ...\n",
       "42710192 2017-12-13 15:38:04         74.0              0.0\n",
       "42710193 2017-10-31 11:28:01         49.0              0.0\n",
       "42710194 2017-01-13 20:16:37         18.0              0.0\n",
       "42710195 2019-05-20 20:07:52         27.0              1.0\n",
       "42710196 2018-03-12 02:57:17       1824.0             49.0\n",
       "\n",
       "[42706865 rows x 3 columns]"
      ]
     },
     "execution_count": 7,
     "metadata": {},
     "output_type": "execute_result"
    }
   ],
   "source": [
    "df_posts"
   ]
  },
  {
   "cell_type": "code",
   "execution_count": 9,
   "id": "3c43c455",
   "metadata": {},
   "outputs": [
    {
     "ename": "KeyboardInterrupt",
     "evalue": "",
     "output_type": "error",
     "traceback": [
      "\u001b[0;31m---------------------------------------------------------------------------\u001b[0m",
      "\u001b[0;31mKeyboardInterrupt\u001b[0m                         Traceback (most recent call last)",
      "Input \u001b[0;32mIn [9]\u001b[0m, in \u001b[0;36m<cell line: 1>\u001b[0;34m()\u001b[0m\n\u001b[0;32m----> 1\u001b[0m df_gb \u001b[38;5;241m=\u001b[39m \u001b[43mdf_posts\u001b[49m\u001b[38;5;241;43m.\u001b[39;49m\u001b[43mgroupby\u001b[49m\u001b[43m(\u001b[49m\u001b[43m[\u001b[49m\u001b[38;5;124;43m'\u001b[39;49m\u001b[38;5;124;43mcts\u001b[39;49m\u001b[38;5;124;43m'\u001b[39;49m\u001b[43m,\u001b[49m\u001b[38;5;124;43m'\u001b[39;49m\u001b[38;5;124;43mnumbr_likes\u001b[39;49m\u001b[38;5;124;43m'\u001b[39;49m\u001b[43m]\u001b[49m\u001b[43m)\u001b[49m\u001b[38;5;241;43m.\u001b[39;49m\u001b[43mcts\u001b[49m\u001b[38;5;241;43m.\u001b[39;49m\u001b[43magg\u001b[49m\u001b[43m(\u001b[49m\u001b[43m \u001b[49m\u001b[43mavg_time_diff\u001b[49m\u001b[38;5;241;43m=\u001b[39;49m\u001b[43m \u001b[49m\u001b[38;5;28;43;01mlambda\u001b[39;49;00m\u001b[43m \u001b[49m\u001b[43mgroup\u001b[49m\u001b[43m:\u001b[49m\u001b[43m \u001b[49m\u001b[43mgroup\u001b[49m\u001b[38;5;241;43m.\u001b[39;49m\u001b[43msort_values\u001b[49m\u001b[43m(\u001b[49m\u001b[43m)\u001b[49m\u001b[38;5;241;43m.\u001b[39;49m\u001b[43mdiff\u001b[49m\u001b[43m(\u001b[49m\u001b[43m)\u001b[49m\u001b[38;5;241;43m.\u001b[39;49m\u001b[43mmean\u001b[49m\u001b[43m(\u001b[49m\u001b[43m)\u001b[49m\u001b[43m,\u001b[49m\u001b[43m \u001b[49m\u001b[43mnr_of_likes\u001b[49m\u001b[43m \u001b[49m\u001b[38;5;241;43m=\u001b[39;49m\u001b[43m \u001b[49m\u001b[38;5;28;43;01mlambda\u001b[39;49;00m\u001b[43m \u001b[49m\u001b[43mgroup\u001b[49m\u001b[43m:\u001b[49m\u001b[43m \u001b[49m\u001b[43mgroup\u001b[49m\u001b[38;5;241;43m.\u001b[39;49m\u001b[43msum\u001b[49m\u001b[43m(\u001b[49m\u001b[43m)\u001b[49m\u001b[43m)\u001b[49m\n",
      "File \u001b[0;32m~/opt/anaconda3/lib/python3.9/site-packages/pandas/core/groupby/generic.py:271\u001b[0m, in \u001b[0;36mSeriesGroupBy.aggregate\u001b[0;34m(self, func, engine, engine_kwargs, *args, **kwargs)\u001b[0m\n\u001b[1;32m    267\u001b[0m \u001b[38;5;28;01melif\u001b[39;00m \u001b[38;5;28misinstance\u001b[39m(func, abc\u001b[38;5;241m.\u001b[39mIterable):\n\u001b[1;32m    268\u001b[0m     \u001b[38;5;66;03m# Catch instances of lists / tuples\u001b[39;00m\n\u001b[1;32m    269\u001b[0m     \u001b[38;5;66;03m# but not the class list / tuple itself.\u001b[39;00m\n\u001b[1;32m    270\u001b[0m     func \u001b[38;5;241m=\u001b[39m maybe_mangle_lambdas(func)\n\u001b[0;32m--> 271\u001b[0m     ret \u001b[38;5;241m=\u001b[39m \u001b[38;5;28;43mself\u001b[39;49m\u001b[38;5;241;43m.\u001b[39;49m\u001b[43m_aggregate_multiple_funcs\u001b[49m\u001b[43m(\u001b[49m\u001b[43mfunc\u001b[49m\u001b[43m)\u001b[49m\n\u001b[1;32m    272\u001b[0m     \u001b[38;5;28;01mif\u001b[39;00m relabeling:\n\u001b[1;32m    273\u001b[0m         \u001b[38;5;66;03m# error: Incompatible types in assignment (expression has type\u001b[39;00m\n\u001b[1;32m    274\u001b[0m         \u001b[38;5;66;03m# \"Optional[List[str]]\", variable has type \"Index\")\u001b[39;00m\n\u001b[1;32m    275\u001b[0m         ret\u001b[38;5;241m.\u001b[39mcolumns \u001b[38;5;241m=\u001b[39m columns  \u001b[38;5;66;03m# type: ignore[assignment]\u001b[39;00m\n",
      "File \u001b[0;32m~/opt/anaconda3/lib/python3.9/site-packages/pandas/core/groupby/generic.py:326\u001b[0m, in \u001b[0;36mSeriesGroupBy._aggregate_multiple_funcs\u001b[0;34m(self, arg)\u001b[0m\n\u001b[1;32m    323\u001b[0m \u001b[38;5;28;01mfor\u001b[39;00m idx, (name, func) \u001b[38;5;129;01min\u001b[39;00m \u001b[38;5;28menumerate\u001b[39m(arg):\n\u001b[1;32m    325\u001b[0m     key \u001b[38;5;241m=\u001b[39m base\u001b[38;5;241m.\u001b[39mOutputKey(label\u001b[38;5;241m=\u001b[39mname, position\u001b[38;5;241m=\u001b[39midx)\n\u001b[0;32m--> 326\u001b[0m     results[key] \u001b[38;5;241m=\u001b[39m \u001b[38;5;28;43mself\u001b[39;49m\u001b[38;5;241;43m.\u001b[39;49m\u001b[43maggregate\u001b[49m\u001b[43m(\u001b[49m\u001b[43mfunc\u001b[49m\u001b[43m)\u001b[49m\n\u001b[1;32m    328\u001b[0m \u001b[38;5;28;01mif\u001b[39;00m \u001b[38;5;28many\u001b[39m(\u001b[38;5;28misinstance\u001b[39m(x, DataFrame) \u001b[38;5;28;01mfor\u001b[39;00m x \u001b[38;5;129;01min\u001b[39;00m results\u001b[38;5;241m.\u001b[39mvalues()):\n\u001b[1;32m    329\u001b[0m     \u001b[38;5;28;01mfrom\u001b[39;00m \u001b[38;5;21;01mpandas\u001b[39;00m \u001b[38;5;28;01mimport\u001b[39;00m concat\n",
      "File \u001b[0;32m~/opt/anaconda3/lib/python3.9/site-packages/pandas/core/groupby/generic.py:284\u001b[0m, in \u001b[0;36mSeriesGroupBy.aggregate\u001b[0;34m(self, func, engine, engine_kwargs, *args, **kwargs)\u001b[0m\n\u001b[1;32m    281\u001b[0m     \u001b[38;5;28;01mreturn\u001b[39;00m \u001b[38;5;28mgetattr\u001b[39m(\u001b[38;5;28mself\u001b[39m, cyfunc)()\n\u001b[1;32m    283\u001b[0m \u001b[38;5;28;01mif\u001b[39;00m \u001b[38;5;28mself\u001b[39m\u001b[38;5;241m.\u001b[39mgrouper\u001b[38;5;241m.\u001b[39mnkeys \u001b[38;5;241m>\u001b[39m \u001b[38;5;241m1\u001b[39m:\n\u001b[0;32m--> 284\u001b[0m     \u001b[38;5;28;01mreturn\u001b[39;00m \u001b[38;5;28;43mself\u001b[39;49m\u001b[38;5;241;43m.\u001b[39;49m\u001b[43m_python_agg_general\u001b[49m\u001b[43m(\u001b[49m\u001b[43mfunc\u001b[49m\u001b[43m,\u001b[49m\u001b[43m \u001b[49m\u001b[38;5;241;43m*\u001b[39;49m\u001b[43margs\u001b[49m\u001b[43m,\u001b[49m\u001b[43m \u001b[49m\u001b[38;5;241;43m*\u001b[39;49m\u001b[38;5;241;43m*\u001b[39;49m\u001b[43mkwargs\u001b[49m\u001b[43m)\u001b[49m\n\u001b[1;32m    286\u001b[0m \u001b[38;5;28;01mtry\u001b[39;00m:\n\u001b[1;32m    287\u001b[0m     \u001b[38;5;28;01mreturn\u001b[39;00m \u001b[38;5;28mself\u001b[39m\u001b[38;5;241m.\u001b[39m_python_agg_general(func, \u001b[38;5;241m*\u001b[39margs, \u001b[38;5;241m*\u001b[39m\u001b[38;5;241m*\u001b[39mkwargs)\n",
      "File \u001b[0;32m~/opt/anaconda3/lib/python3.9/site-packages/pandas/core/groupby/groupby.py:1481\u001b[0m, in \u001b[0;36mGroupBy._python_agg_general\u001b[0;34m(self, func, *args, **kwargs)\u001b[0m\n\u001b[1;32m   1477\u001b[0m name \u001b[38;5;241m=\u001b[39m obj\u001b[38;5;241m.\u001b[39mname\n\u001b[1;32m   1479\u001b[0m \u001b[38;5;28;01mtry\u001b[39;00m:\n\u001b[1;32m   1480\u001b[0m     \u001b[38;5;66;03m# if this function is invalid for this dtype, we will ignore it.\u001b[39;00m\n\u001b[0;32m-> 1481\u001b[0m     result \u001b[38;5;241m=\u001b[39m \u001b[38;5;28;43mself\u001b[39;49m\u001b[38;5;241;43m.\u001b[39;49m\u001b[43mgrouper\u001b[49m\u001b[38;5;241;43m.\u001b[39;49m\u001b[43magg_series\u001b[49m\u001b[43m(\u001b[49m\u001b[43mobj\u001b[49m\u001b[43m,\u001b[49m\u001b[43m \u001b[49m\u001b[43mf\u001b[49m\u001b[43m)\u001b[49m\n\u001b[1;32m   1482\u001b[0m \u001b[38;5;28;01mexcept\u001b[39;00m \u001b[38;5;167;01mTypeError\u001b[39;00m:\n\u001b[1;32m   1483\u001b[0m     warn_dropping_nuisance_columns_deprecated(\u001b[38;5;28mtype\u001b[39m(\u001b[38;5;28mself\u001b[39m), \u001b[38;5;124m\"\u001b[39m\u001b[38;5;124magg\u001b[39m\u001b[38;5;124m\"\u001b[39m)\n",
      "File \u001b[0;32m~/opt/anaconda3/lib/python3.9/site-packages/pandas/core/groupby/ops.py:972\u001b[0m, in \u001b[0;36mBaseGrouper.agg_series\u001b[0;34m(self, obj, func, preserve_dtype)\u001b[0m\n\u001b[1;32m    969\u001b[0m     result \u001b[38;5;241m=\u001b[39m \u001b[38;5;28mself\u001b[39m\u001b[38;5;241m.\u001b[39m_aggregate_series_pure_python(obj, func)\n\u001b[1;32m    971\u001b[0m \u001b[38;5;28;01melif\u001b[39;00m \u001b[38;5;129;01mnot\u001b[39;00m \u001b[38;5;28misinstance\u001b[39m(obj\u001b[38;5;241m.\u001b[39m_values, np\u001b[38;5;241m.\u001b[39mndarray):\n\u001b[0;32m--> 972\u001b[0m     result \u001b[38;5;241m=\u001b[39m \u001b[38;5;28;43mself\u001b[39;49m\u001b[38;5;241;43m.\u001b[39;49m\u001b[43m_aggregate_series_pure_python\u001b[49m\u001b[43m(\u001b[49m\u001b[43mobj\u001b[49m\u001b[43m,\u001b[49m\u001b[43m \u001b[49m\u001b[43mfunc\u001b[49m\u001b[43m)\u001b[49m\n\u001b[1;32m    974\u001b[0m     \u001b[38;5;66;03m# we can preserve a little bit more aggressively with EA dtype\u001b[39;00m\n\u001b[1;32m    975\u001b[0m     \u001b[38;5;66;03m#  because maybe_cast_pointwise_result will do a try/except\u001b[39;00m\n\u001b[1;32m    976\u001b[0m     \u001b[38;5;66;03m#  with _from_sequence.  NB we are assuming here that _from_sequence\u001b[39;00m\n\u001b[1;32m    977\u001b[0m     \u001b[38;5;66;03m#  is sufficiently strict that it casts appropriately.\u001b[39;00m\n\u001b[1;32m    978\u001b[0m     preserve_dtype \u001b[38;5;241m=\u001b[39m \u001b[38;5;28;01mTrue\u001b[39;00m\n",
      "File \u001b[0;32m~/opt/anaconda3/lib/python3.9/site-packages/pandas/core/groupby/ops.py:1005\u001b[0m, in \u001b[0;36mBaseGrouper._aggregate_series_pure_python\u001b[0;34m(self, obj, func)\u001b[0m\n\u001b[1;32m   1003\u001b[0m \u001b[38;5;28;01mfor\u001b[39;00m i, group \u001b[38;5;129;01min\u001b[39;00m \u001b[38;5;28menumerate\u001b[39m(splitter):\n\u001b[1;32m   1004\u001b[0m     group \u001b[38;5;241m=\u001b[39m group\u001b[38;5;241m.\u001b[39m__finalize__(obj, method\u001b[38;5;241m=\u001b[39m\u001b[38;5;124m\"\u001b[39m\u001b[38;5;124mgroupby\u001b[39m\u001b[38;5;124m\"\u001b[39m)\n\u001b[0;32m-> 1005\u001b[0m     res \u001b[38;5;241m=\u001b[39m \u001b[43mfunc\u001b[49m\u001b[43m(\u001b[49m\u001b[43mgroup\u001b[49m\u001b[43m)\u001b[49m\n\u001b[1;32m   1006\u001b[0m     res \u001b[38;5;241m=\u001b[39m libreduction\u001b[38;5;241m.\u001b[39mextract_result(res)\n\u001b[1;32m   1008\u001b[0m     \u001b[38;5;28;01mif\u001b[39;00m \u001b[38;5;129;01mnot\u001b[39;00m initialized:\n\u001b[1;32m   1009\u001b[0m         \u001b[38;5;66;03m# We only do this validation on the first iteration\u001b[39;00m\n",
      "File \u001b[0;32m~/opt/anaconda3/lib/python3.9/site-packages/pandas/core/groupby/groupby.py:1467\u001b[0m, in \u001b[0;36mGroupBy._python_agg_general.<locals>.<lambda>\u001b[0;34m(x)\u001b[0m\n\u001b[1;32m   1464\u001b[0m \u001b[38;5;129m@final\u001b[39m\n\u001b[1;32m   1465\u001b[0m \u001b[38;5;28;01mdef\u001b[39;00m \u001b[38;5;21m_python_agg_general\u001b[39m(\u001b[38;5;28mself\u001b[39m, func, \u001b[38;5;241m*\u001b[39margs, \u001b[38;5;241m*\u001b[39m\u001b[38;5;241m*\u001b[39mkwargs):\n\u001b[1;32m   1466\u001b[0m     func \u001b[38;5;241m=\u001b[39m com\u001b[38;5;241m.\u001b[39mis_builtin_func(func)\n\u001b[0;32m-> 1467\u001b[0m     f \u001b[38;5;241m=\u001b[39m \u001b[38;5;28;01mlambda\u001b[39;00m x: \u001b[43mfunc\u001b[49m\u001b[43m(\u001b[49m\u001b[43mx\u001b[49m\u001b[43m,\u001b[49m\u001b[43m \u001b[49m\u001b[38;5;241;43m*\u001b[39;49m\u001b[43margs\u001b[49m\u001b[43m,\u001b[49m\u001b[43m \u001b[49m\u001b[38;5;241;43m*\u001b[39;49m\u001b[38;5;241;43m*\u001b[39;49m\u001b[43mkwargs\u001b[49m\u001b[43m)\u001b[49m\n\u001b[1;32m   1469\u001b[0m     \u001b[38;5;66;03m# iterate through \"columns\" ex exclusions to populate output dict\u001b[39;00m\n\u001b[1;32m   1470\u001b[0m     output: \u001b[38;5;28mdict\u001b[39m[base\u001b[38;5;241m.\u001b[39mOutputKey, ArrayLike] \u001b[38;5;241m=\u001b[39m {}\n",
      "Input \u001b[0;32mIn [9]\u001b[0m, in \u001b[0;36m<lambda>\u001b[0;34m(group)\u001b[0m\n\u001b[0;32m----> 1\u001b[0m df_gb \u001b[38;5;241m=\u001b[39m df_posts\u001b[38;5;241m.\u001b[39mgroupby([\u001b[38;5;124m'\u001b[39m\u001b[38;5;124mcts\u001b[39m\u001b[38;5;124m'\u001b[39m,\u001b[38;5;124m'\u001b[39m\u001b[38;5;124mnumbr_likes\u001b[39m\u001b[38;5;124m'\u001b[39m])\u001b[38;5;241m.\u001b[39mcts\u001b[38;5;241m.\u001b[39magg( avg_time_diff\u001b[38;5;241m=\u001b[39m \u001b[38;5;28;01mlambda\u001b[39;00m group: \u001b[43mgroup\u001b[49m\u001b[38;5;241;43m.\u001b[39;49m\u001b[43msort_values\u001b[49m\u001b[43m(\u001b[49m\u001b[43m)\u001b[49m\u001b[38;5;241;43m.\u001b[39;49m\u001b[43mdiff\u001b[49m\u001b[43m(\u001b[49m\u001b[43m)\u001b[49m\u001b[38;5;241m.\u001b[39mmean(), nr_of_likes \u001b[38;5;241m=\u001b[39m \u001b[38;5;28;01mlambda\u001b[39;00m group: group\u001b[38;5;241m.\u001b[39msum())\n",
      "File \u001b[0;32m~/opt/anaconda3/lib/python3.9/site-packages/pandas/core/series.py:2698\u001b[0m, in \u001b[0;36mSeries.diff\u001b[0;34m(self, periods)\u001b[0m\n\u001b[1;32m   2662\u001b[0m \u001b[38;5;124;03m\"\"\"\u001b[39;00m\n\u001b[1;32m   2663\u001b[0m \u001b[38;5;124;03mFirst discrete difference of element.\u001b[39;00m\n\u001b[1;32m   2664\u001b[0m \n\u001b[0;32m   (...)\u001b[0m\n\u001b[1;32m   2695\u001b[0m \u001b[38;5;124;03m{examples}\u001b[39;00m\n\u001b[1;32m   2696\u001b[0m \u001b[38;5;124;03m\"\"\"\u001b[39;00m\n\u001b[1;32m   2697\u001b[0m result \u001b[38;5;241m=\u001b[39m algorithms\u001b[38;5;241m.\u001b[39mdiff(\u001b[38;5;28mself\u001b[39m\u001b[38;5;241m.\u001b[39m_values, periods)\n\u001b[0;32m-> 2698\u001b[0m \u001b[38;5;28;01mreturn\u001b[39;00m \u001b[38;5;28;43mself\u001b[39;49m\u001b[38;5;241;43m.\u001b[39;49m\u001b[43m_constructor\u001b[49m\u001b[43m(\u001b[49m\u001b[43mresult\u001b[49m\u001b[43m,\u001b[49m\u001b[43m \u001b[49m\u001b[43mindex\u001b[49m\u001b[38;5;241;43m=\u001b[39;49m\u001b[38;5;28;43mself\u001b[39;49m\u001b[38;5;241;43m.\u001b[39;49m\u001b[43mindex\u001b[49m\u001b[43m)\u001b[49m\u001b[38;5;241m.\u001b[39m__finalize__(\n\u001b[1;32m   2699\u001b[0m     \u001b[38;5;28mself\u001b[39m, method\u001b[38;5;241m=\u001b[39m\u001b[38;5;124m\"\u001b[39m\u001b[38;5;124mdiff\u001b[39m\u001b[38;5;124m\"\u001b[39m\n\u001b[1;32m   2700\u001b[0m )\n",
      "File \u001b[0;32m~/opt/anaconda3/lib/python3.9/site-packages/pandas/core/series.py:459\u001b[0m, in \u001b[0;36mSeries.__init__\u001b[0;34m(self, data, index, dtype, name, copy, fastpath)\u001b[0m\n\u001b[1;32m    456\u001b[0m         \u001b[38;5;28;01melif\u001b[39;00m manager \u001b[38;5;241m==\u001b[39m \u001b[38;5;124m\"\u001b[39m\u001b[38;5;124marray\u001b[39m\u001b[38;5;124m\"\u001b[39m:\n\u001b[1;32m    457\u001b[0m             data \u001b[38;5;241m=\u001b[39m SingleArrayManager\u001b[38;5;241m.\u001b[39mfrom_array(data, index)\n\u001b[0;32m--> 459\u001b[0m \u001b[43mNDFrame\u001b[49m\u001b[38;5;241;43m.\u001b[39;49m\u001b[38;5;21;43m__init__\u001b[39;49m\u001b[43m(\u001b[49m\u001b[38;5;28;43mself\u001b[39;49m\u001b[43m,\u001b[49m\u001b[43m \u001b[49m\u001b[43mdata\u001b[49m\u001b[43m)\u001b[49m\n\u001b[1;32m    460\u001b[0m \u001b[38;5;28mself\u001b[39m\u001b[38;5;241m.\u001b[39mname \u001b[38;5;241m=\u001b[39m name\n\u001b[1;32m    461\u001b[0m \u001b[38;5;28mself\u001b[39m\u001b[38;5;241m.\u001b[39m_set_axis(\u001b[38;5;241m0\u001b[39m, index, fastpath\u001b[38;5;241m=\u001b[39m\u001b[38;5;28;01mTrue\u001b[39;00m)\n",
      "File \u001b[0;32m~/opt/anaconda3/lib/python3.9/site-packages/pandas/core/generic.py:249\u001b[0m, in \u001b[0;36mNDFrame.__init__\u001b[0;34m(self, data, copy, attrs)\u001b[0m\n\u001b[1;32m    247\u001b[0m \u001b[38;5;28mobject\u001b[39m\u001b[38;5;241m.\u001b[39m\u001b[38;5;21m__setattr__\u001b[39m(\u001b[38;5;28mself\u001b[39m, \u001b[38;5;124m\"\u001b[39m\u001b[38;5;124m_is_copy\u001b[39m\u001b[38;5;124m\"\u001b[39m, \u001b[38;5;28;01mNone\u001b[39;00m)\n\u001b[1;32m    248\u001b[0m \u001b[38;5;28mobject\u001b[39m\u001b[38;5;241m.\u001b[39m\u001b[38;5;21m__setattr__\u001b[39m(\u001b[38;5;28mself\u001b[39m, \u001b[38;5;124m\"\u001b[39m\u001b[38;5;124m_mgr\u001b[39m\u001b[38;5;124m\"\u001b[39m, data)\n\u001b[0;32m--> 249\u001b[0m \u001b[38;5;28;43mobject\u001b[39;49m\u001b[38;5;241;43m.\u001b[39;49m\u001b[38;5;21;43m__setattr__\u001b[39;49m\u001b[43m(\u001b[49m\u001b[38;5;28;43mself\u001b[39;49m\u001b[43m,\u001b[49m\u001b[43m \u001b[49m\u001b[38;5;124;43m\"\u001b[39;49m\u001b[38;5;124;43m_item_cache\u001b[39;49m\u001b[38;5;124;43m\"\u001b[39;49m\u001b[43m,\u001b[49m\u001b[43m \u001b[49m\u001b[43m{\u001b[49m\u001b[43m}\u001b[49m\u001b[43m)\u001b[49m\n\u001b[1;32m    250\u001b[0m \u001b[38;5;28;01mif\u001b[39;00m attrs \u001b[38;5;129;01mis\u001b[39;00m \u001b[38;5;28;01mNone\u001b[39;00m:\n\u001b[1;32m    251\u001b[0m     attrs \u001b[38;5;241m=\u001b[39m {}\n",
      "\u001b[0;31mKeyboardInterrupt\u001b[0m: "
     ]
    }
   ],
   "source": [
    "\n",
    "\n",
    "\n"
   ]
  },
  {
   "cell_type": "code",
   "execution_count": null,
   "id": "093ebce9",
   "metadata": {},
   "outputs": [],
   "source": [
    "        "
   ]
  }
 ],
 "metadata": {
  "kernelspec": {
   "display_name": "Python 3 (ipykernel)",
   "language": "python",
   "name": "python3"
  },
  "language_info": {
   "codemirror_mode": {
    "name": "ipython",
    "version": 3
   },
   "file_extension": ".py",
   "mimetype": "text/x-python",
   "name": "python",
   "nbconvert_exporter": "python",
   "pygments_lexer": "ipython3",
   "version": "3.10.6"
  }
 },
 "nbformat": 4,
 "nbformat_minor": 5
}
